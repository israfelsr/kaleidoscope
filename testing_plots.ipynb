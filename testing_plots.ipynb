{
 "cells": [
  {
   "cell_type": "code",
   "execution_count": 23,
   "metadata": {},
   "outputs": [
    {
     "data": {
      "application/vnd.plotly.v1+json": {
       "config": {
        "plotlyServerURL": "https://plot.ly"
       },
       "data": [
        {
         "fill": "toself",
         "fillcolor": "#636EFA",
         "line": {
          "color": "#636EFA",
          "width": 2
         },
         "mode": "lines+markers",
         "name": "qwen2-7b",
         "opacity": 0.5,
         "r": [
          0.5500927643784786,
          0.4758909853249476,
          0.1785714285714285,
          0.2985507246376812,
          0.4892367906066536,
          0.2866071428571428,
          0.3314032342201356,
          0.2823529411764706,
          0.5500927643784786
         ],
         "theta": [
          "Advanced",
          "College Graduation Exams",
          "DSSSB",
          "Driver License",
          "High School",
          "National",
          "University Entrance",
          "olympiads",
          "Advanced"
         ],
         "type": "scatterpolar"
        },
        {
         "fill": "toself",
         "fillcolor": "#EF553B",
         "line": {
          "color": "#EF553B",
          "width": 2
         },
         "mode": "lines+markers",
         "name": " randomModel",
         "opacity": 0.5,
         "r": [
          0.21,
          0.36,
          0.14,
          0.88,
          0.42,
          0.33,
          0.554,
          0.2,
          0.21
         ],
         "theta": [
          "Advanced",
          "College Graduation Exams",
          "DSSSB",
          "Driver License",
          "High School",
          "National",
          "University Entrance",
          "olympiads",
          "Advanced"
         ],
         "type": "scatterpolar"
        }
       ],
       "layout": {
        "legend": {
         "font": {
          "size": 14
         },
         "orientation": "h",
         "x": 0.5,
         "xanchor": "center",
         "y": 1.1,
         "yanchor": "bottom"
        },
        "margin": {
         "b": 50,
         "l": 50,
         "r": 50,
         "t": 50
        },
        "polar": {
         "angularaxis": {
          "direction": "clockwise",
          "rotation": 90,
          "tickfont": {
           "color": "black",
           "size": 14
          }
         },
         "radialaxis": {
          "range": [
           0,
           1
          ],
          "tickfont": {
           "color": "grey",
           "size": 10
          },
          "ticktext": [
           "0%",
           "20%",
           "40%",
           "60%",
           "80%",
           "100%"
          ],
          "tickvals": [
           0,
           0.2,
           0.4,
           0.6,
           0.8,
           1
          ],
          "visible": true
         }
        },
        "template": {
         "data": {
          "bar": [
           {
            "error_x": {
             "color": "#2a3f5f"
            },
            "error_y": {
             "color": "#2a3f5f"
            },
            "marker": {
             "line": {
              "color": "#E5ECF6",
              "width": 0.5
             },
             "pattern": {
              "fillmode": "overlay",
              "size": 10,
              "solidity": 0.2
             }
            },
            "type": "bar"
           }
          ],
          "barpolar": [
           {
            "marker": {
             "line": {
              "color": "#E5ECF6",
              "width": 0.5
             },
             "pattern": {
              "fillmode": "overlay",
              "size": 10,
              "solidity": 0.2
             }
            },
            "type": "barpolar"
           }
          ],
          "carpet": [
           {
            "aaxis": {
             "endlinecolor": "#2a3f5f",
             "gridcolor": "white",
             "linecolor": "white",
             "minorgridcolor": "white",
             "startlinecolor": "#2a3f5f"
            },
            "baxis": {
             "endlinecolor": "#2a3f5f",
             "gridcolor": "white",
             "linecolor": "white",
             "minorgridcolor": "white",
             "startlinecolor": "#2a3f5f"
            },
            "type": "carpet"
           }
          ],
          "choropleth": [
           {
            "colorbar": {
             "outlinewidth": 0,
             "ticks": ""
            },
            "type": "choropleth"
           }
          ],
          "contour": [
           {
            "colorbar": {
             "outlinewidth": 0,
             "ticks": ""
            },
            "colorscale": [
             [
              0,
              "#0d0887"
             ],
             [
              0.1111111111111111,
              "#46039f"
             ],
             [
              0.2222222222222222,
              "#7201a8"
             ],
             [
              0.3333333333333333,
              "#9c179e"
             ],
             [
              0.4444444444444444,
              "#bd3786"
             ],
             [
              0.5555555555555556,
              "#d8576b"
             ],
             [
              0.6666666666666666,
              "#ed7953"
             ],
             [
              0.7777777777777778,
              "#fb9f3a"
             ],
             [
              0.8888888888888888,
              "#fdca26"
             ],
             [
              1,
              "#f0f921"
             ]
            ],
            "type": "contour"
           }
          ],
          "contourcarpet": [
           {
            "colorbar": {
             "outlinewidth": 0,
             "ticks": ""
            },
            "type": "contourcarpet"
           }
          ],
          "heatmap": [
           {
            "colorbar": {
             "outlinewidth": 0,
             "ticks": ""
            },
            "colorscale": [
             [
              0,
              "#0d0887"
             ],
             [
              0.1111111111111111,
              "#46039f"
             ],
             [
              0.2222222222222222,
              "#7201a8"
             ],
             [
              0.3333333333333333,
              "#9c179e"
             ],
             [
              0.4444444444444444,
              "#bd3786"
             ],
             [
              0.5555555555555556,
              "#d8576b"
             ],
             [
              0.6666666666666666,
              "#ed7953"
             ],
             [
              0.7777777777777778,
              "#fb9f3a"
             ],
             [
              0.8888888888888888,
              "#fdca26"
             ],
             [
              1,
              "#f0f921"
             ]
            ],
            "type": "heatmap"
           }
          ],
          "heatmapgl": [
           {
            "colorbar": {
             "outlinewidth": 0,
             "ticks": ""
            },
            "colorscale": [
             [
              0,
              "#0d0887"
             ],
             [
              0.1111111111111111,
              "#46039f"
             ],
             [
              0.2222222222222222,
              "#7201a8"
             ],
             [
              0.3333333333333333,
              "#9c179e"
             ],
             [
              0.4444444444444444,
              "#bd3786"
             ],
             [
              0.5555555555555556,
              "#d8576b"
             ],
             [
              0.6666666666666666,
              "#ed7953"
             ],
             [
              0.7777777777777778,
              "#fb9f3a"
             ],
             [
              0.8888888888888888,
              "#fdca26"
             ],
             [
              1,
              "#f0f921"
             ]
            ],
            "type": "heatmapgl"
           }
          ],
          "histogram": [
           {
            "marker": {
             "pattern": {
              "fillmode": "overlay",
              "size": 10,
              "solidity": 0.2
             }
            },
            "type": "histogram"
           }
          ],
          "histogram2d": [
           {
            "colorbar": {
             "outlinewidth": 0,
             "ticks": ""
            },
            "colorscale": [
             [
              0,
              "#0d0887"
             ],
             [
              0.1111111111111111,
              "#46039f"
             ],
             [
              0.2222222222222222,
              "#7201a8"
             ],
             [
              0.3333333333333333,
              "#9c179e"
             ],
             [
              0.4444444444444444,
              "#bd3786"
             ],
             [
              0.5555555555555556,
              "#d8576b"
             ],
             [
              0.6666666666666666,
              "#ed7953"
             ],
             [
              0.7777777777777778,
              "#fb9f3a"
             ],
             [
              0.8888888888888888,
              "#fdca26"
             ],
             [
              1,
              "#f0f921"
             ]
            ],
            "type": "histogram2d"
           }
          ],
          "histogram2dcontour": [
           {
            "colorbar": {
             "outlinewidth": 0,
             "ticks": ""
            },
            "colorscale": [
             [
              0,
              "#0d0887"
             ],
             [
              0.1111111111111111,
              "#46039f"
             ],
             [
              0.2222222222222222,
              "#7201a8"
             ],
             [
              0.3333333333333333,
              "#9c179e"
             ],
             [
              0.4444444444444444,
              "#bd3786"
             ],
             [
              0.5555555555555556,
              "#d8576b"
             ],
             [
              0.6666666666666666,
              "#ed7953"
             ],
             [
              0.7777777777777778,
              "#fb9f3a"
             ],
             [
              0.8888888888888888,
              "#fdca26"
             ],
             [
              1,
              "#f0f921"
             ]
            ],
            "type": "histogram2dcontour"
           }
          ],
          "mesh3d": [
           {
            "colorbar": {
             "outlinewidth": 0,
             "ticks": ""
            },
            "type": "mesh3d"
           }
          ],
          "parcoords": [
           {
            "line": {
             "colorbar": {
              "outlinewidth": 0,
              "ticks": ""
             }
            },
            "type": "parcoords"
           }
          ],
          "pie": [
           {
            "automargin": true,
            "type": "pie"
           }
          ],
          "scatter": [
           {
            "fillpattern": {
             "fillmode": "overlay",
             "size": 10,
             "solidity": 0.2
            },
            "type": "scatter"
           }
          ],
          "scatter3d": [
           {
            "line": {
             "colorbar": {
              "outlinewidth": 0,
              "ticks": ""
             }
            },
            "marker": {
             "colorbar": {
              "outlinewidth": 0,
              "ticks": ""
             }
            },
            "type": "scatter3d"
           }
          ],
          "scattercarpet": [
           {
            "marker": {
             "colorbar": {
              "outlinewidth": 0,
              "ticks": ""
             }
            },
            "type": "scattercarpet"
           }
          ],
          "scattergeo": [
           {
            "marker": {
             "colorbar": {
              "outlinewidth": 0,
              "ticks": ""
             }
            },
            "type": "scattergeo"
           }
          ],
          "scattergl": [
           {
            "marker": {
             "colorbar": {
              "outlinewidth": 0,
              "ticks": ""
             }
            },
            "type": "scattergl"
           }
          ],
          "scattermapbox": [
           {
            "marker": {
             "colorbar": {
              "outlinewidth": 0,
              "ticks": ""
             }
            },
            "type": "scattermapbox"
           }
          ],
          "scatterpolar": [
           {
            "marker": {
             "colorbar": {
              "outlinewidth": 0,
              "ticks": ""
             }
            },
            "type": "scatterpolar"
           }
          ],
          "scatterpolargl": [
           {
            "marker": {
             "colorbar": {
              "outlinewidth": 0,
              "ticks": ""
             }
            },
            "type": "scatterpolargl"
           }
          ],
          "scatterternary": [
           {
            "marker": {
             "colorbar": {
              "outlinewidth": 0,
              "ticks": ""
             }
            },
            "type": "scatterternary"
           }
          ],
          "surface": [
           {
            "colorbar": {
             "outlinewidth": 0,
             "ticks": ""
            },
            "colorscale": [
             [
              0,
              "#0d0887"
             ],
             [
              0.1111111111111111,
              "#46039f"
             ],
             [
              0.2222222222222222,
              "#7201a8"
             ],
             [
              0.3333333333333333,
              "#9c179e"
             ],
             [
              0.4444444444444444,
              "#bd3786"
             ],
             [
              0.5555555555555556,
              "#d8576b"
             ],
             [
              0.6666666666666666,
              "#ed7953"
             ],
             [
              0.7777777777777778,
              "#fb9f3a"
             ],
             [
              0.8888888888888888,
              "#fdca26"
             ],
             [
              1,
              "#f0f921"
             ]
            ],
            "type": "surface"
           }
          ],
          "table": [
           {
            "cells": {
             "fill": {
              "color": "#EBF0F8"
             },
             "line": {
              "color": "white"
             }
            },
            "header": {
             "fill": {
              "color": "#C8D4E3"
             },
             "line": {
              "color": "white"
             }
            },
            "type": "table"
           }
          ]
         },
         "layout": {
          "annotationdefaults": {
           "arrowcolor": "#2a3f5f",
           "arrowhead": 0,
           "arrowwidth": 1
          },
          "autotypenumbers": "strict",
          "coloraxis": {
           "colorbar": {
            "outlinewidth": 0,
            "ticks": ""
           }
          },
          "colorscale": {
           "diverging": [
            [
             0,
             "#8e0152"
            ],
            [
             0.1,
             "#c51b7d"
            ],
            [
             0.2,
             "#de77ae"
            ],
            [
             0.3,
             "#f1b6da"
            ],
            [
             0.4,
             "#fde0ef"
            ],
            [
             0.5,
             "#f7f7f7"
            ],
            [
             0.6,
             "#e6f5d0"
            ],
            [
             0.7,
             "#b8e186"
            ],
            [
             0.8,
             "#7fbc41"
            ],
            [
             0.9,
             "#4d9221"
            ],
            [
             1,
             "#276419"
            ]
           ],
           "sequential": [
            [
             0,
             "#0d0887"
            ],
            [
             0.1111111111111111,
             "#46039f"
            ],
            [
             0.2222222222222222,
             "#7201a8"
            ],
            [
             0.3333333333333333,
             "#9c179e"
            ],
            [
             0.4444444444444444,
             "#bd3786"
            ],
            [
             0.5555555555555556,
             "#d8576b"
            ],
            [
             0.6666666666666666,
             "#ed7953"
            ],
            [
             0.7777777777777778,
             "#fb9f3a"
            ],
            [
             0.8888888888888888,
             "#fdca26"
            ],
            [
             1,
             "#f0f921"
            ]
           ],
           "sequentialminus": [
            [
             0,
             "#0d0887"
            ],
            [
             0.1111111111111111,
             "#46039f"
            ],
            [
             0.2222222222222222,
             "#7201a8"
            ],
            [
             0.3333333333333333,
             "#9c179e"
            ],
            [
             0.4444444444444444,
             "#bd3786"
            ],
            [
             0.5555555555555556,
             "#d8576b"
            ],
            [
             0.6666666666666666,
             "#ed7953"
            ],
            [
             0.7777777777777778,
             "#fb9f3a"
            ],
            [
             0.8888888888888888,
             "#fdca26"
            ],
            [
             1,
             "#f0f921"
            ]
           ]
          },
          "colorway": [
           "#636efa",
           "#EF553B",
           "#00cc96",
           "#ab63fa",
           "#FFA15A",
           "#19d3f3",
           "#FF6692",
           "#B6E880",
           "#FF97FF",
           "#FECB52"
          ],
          "font": {
           "color": "#2a3f5f"
          },
          "geo": {
           "bgcolor": "white",
           "lakecolor": "white",
           "landcolor": "#E5ECF6",
           "showlakes": true,
           "showland": true,
           "subunitcolor": "white"
          },
          "hoverlabel": {
           "align": "left"
          },
          "hovermode": "closest",
          "mapbox": {
           "style": "light"
          },
          "paper_bgcolor": "white",
          "plot_bgcolor": "#E5ECF6",
          "polar": {
           "angularaxis": {
            "gridcolor": "white",
            "linecolor": "white",
            "ticks": ""
           },
           "bgcolor": "#E5ECF6",
           "radialaxis": {
            "gridcolor": "white",
            "linecolor": "white",
            "ticks": ""
           }
          },
          "scene": {
           "xaxis": {
            "backgroundcolor": "#E5ECF6",
            "gridcolor": "white",
            "gridwidth": 2,
            "linecolor": "white",
            "showbackground": true,
            "ticks": "",
            "zerolinecolor": "white"
           },
           "yaxis": {
            "backgroundcolor": "#E5ECF6",
            "gridcolor": "white",
            "gridwidth": 2,
            "linecolor": "white",
            "showbackground": true,
            "ticks": "",
            "zerolinecolor": "white"
           },
           "zaxis": {
            "backgroundcolor": "#E5ECF6",
            "gridcolor": "white",
            "gridwidth": 2,
            "linecolor": "white",
            "showbackground": true,
            "ticks": "",
            "zerolinecolor": "white"
           }
          },
          "shapedefaults": {
           "line": {
            "color": "#2a3f5f"
           }
          },
          "ternary": {
           "aaxis": {
            "gridcolor": "white",
            "linecolor": "white",
            "ticks": ""
           },
           "baxis": {
            "gridcolor": "white",
            "linecolor": "white",
            "ticks": ""
           },
           "bgcolor": "#E5ECF6",
           "caxis": {
            "gridcolor": "white",
            "linecolor": "white",
            "ticks": ""
           }
          },
          "title": {
           "x": 0.05
          },
          "xaxis": {
           "automargin": true,
           "gridcolor": "white",
           "linecolor": "white",
           "ticks": "",
           "title": {
            "standoff": 15
           },
           "zerolinecolor": "white",
           "zerolinewidth": 2
          },
          "yaxis": {
           "automargin": true,
           "gridcolor": "white",
           "linecolor": "white",
           "ticks": "",
           "title": {
            "standoff": 15
           },
           "zerolinecolor": "white",
           "zerolinewidth": 2
          }
         }
        }
       }
      }
     },
     "metadata": {},
     "output_type": "display_data"
    }
   ],
   "source": [
    "import os\n",
    "import numpy as np\n",
    "import pandas as pd\n",
    "import plotly.graph_objects as go\n",
    "import plotly.express as px  # for color sequences\n",
    "\n",
    "def generate_spidergraph(data_path: str):\n",
    "    \"\"\"\n",
    "    Generate a spider (radar) chart comparing multiple models' accuracies across languages.\n",
    "    \n",
    "    Args:\n",
    "        data_path (str): Path to input CSV file.\n",
    "        output_folder (str): Directory where to save the resulting plot.\n",
    "    \"\"\"\n",
    "    # Read and prepare data\n",
    "    df = pd.read_csv(data_path)\n",
    "    df = df[df['level'] != 'Overall']  # Remove overall score\n",
    "    \n",
    "    # Extract languages and models\n",
    "    languages = df['level'].tolist()\n",
    "    models = [col for col in df.columns if col != 'level']\n",
    "    \n",
    "    # Close the loop for languages by appending the first language at the end.\n",
    "    languages_closed = languages + [languages[0]]\n",
    "    \n",
    "    # Create Plotly figure\n",
    "    fig = go.Figure()\n",
    "    \n",
    "    # Use Plotly's default qualitative color sequence (or choose your own)\n",
    "    color_sequence = px.colors.qualitative.Plotly\n",
    "    \n",
    "    # Add a trace for each model\n",
    "    for i, model in enumerate(models):\n",
    "        values = df[model].tolist()\n",
    "        # Close the loop by appending the first value again\n",
    "        values_closed = values + [values[0]]\n",
    "        \n",
    "        fig.add_trace(go.Scatterpolar(\n",
    "            r=values_closed,\n",
    "            theta=languages_closed,\n",
    "            mode='lines+markers',\n",
    "            name=model,\n",
    "            line=dict(color=color_sequence[i % len(color_sequence)], width=2),\n",
    "            fill='toself',\n",
    "            # Using the same color for the fill with some transparency:\n",
    "            fillcolor=color_sequence[i % len(color_sequence)],\n",
    "            opacity=0.5  # Adjust opacity of the trace if needed\n",
    "        ))\n",
    "    \n",
    "    # Update layout similar to the Matplotlib settings\n",
    "    fig.update_layout(\n",
    "        polar=dict(\n",
    "            radialaxis=dict(\n",
    "                visible=True,\n",
    "                range=[0, 1],\n",
    "                tickvals=[0, 0.2, 0.4, 0.6, 0.8, 1.0],\n",
    "                ticktext=[\"0%\", \"20%\", \"40%\", \"60%\", \"80%\", \"100%\"],\n",
    "                # Optionally, you can adjust tick font\n",
    "                tickfont=dict(size=10, color=\"grey\")\n",
    "            ),\n",
    "            angularaxis=dict(\n",
    "                tickfont=dict(size=14, color=\"black\"),\n",
    "                rotation=90,         # Sets the starting angle (equivalent to pi/2 offset)\n",
    "                direction=\"clockwise\"  # Reverse direction to mimic Matplotlib's '-1'\n",
    "            ),\n",
    "        ),\n",
    "        legend=dict(\n",
    "        font=dict(size=14),\n",
    "        orientation=\"h\",  # Horizontal legend\n",
    "        yanchor=\"bottom\",\n",
    "        y=1.1,  # Adjust height of legend above the graph\n",
    "        xanchor=\"center\",\n",
    "        x=0.5\n",
    "    ),\n",
    "    margin=dict(l=50, r=50, t=50, b=50)  # Reduced top margin\n",
    "    )\n",
    "    \n",
    "    # Optionally display the figure in your browser or notebook\n",
    "    fig.show()\n",
    "\n",
    "# Example usage:\n",
    "generate_spidergraph(\"eval_results/results_accuracy/accuracy_across_level.csv\")"
   ]
  },
  {
   "cell_type": "code",
   "execution_count": 20,
   "metadata": {},
   "outputs": [
    {
     "data": {
      "application/vnd.plotly.v1+json": {
       "config": {
        "plotlyServerURL": "https://plot.ly"
       },
       "data": [
        {
         "alignmentgroup": "True",
         "hovertemplate": "Exam Subject=Aptitude<br>Language=%{x}<br>Count=%{y}<extra></extra>",
         "legendgroup": "Aptitude",
         "marker": {
          "color": "#636efa",
          "pattern": {
           "shape": ""
          }
         },
         "name": "Aptitude",
         "offsetgroup": "Aptitude",
         "orientation": "v",
         "showlegend": true,
         "textposition": "auto",
         "type": "bar",
         "x": [
          "Czech",
          "Spanish",
          "Persian",
          "Hindi",
          "Lithuanian",
          "Dutch; Flemish",
          "Panjabi; Punjabi",
          "Polish",
          "Slovak",
          "Telugu",
          "Ukrainian"
         ],
         "xaxis": "x",
         "y": [
          0,
          0,
          0,
          473,
          0,
          0,
          0,
          0,
          0,
          0,
          0
         ],
         "yaxis": "y"
        },
        {
         "alignmentgroup": "True",
         "hovertemplate": "Exam Subject=Biology<br>Language=%{x}<br>Count=%{y}<extra></extra>",
         "legendgroup": "Biology",
         "marker": {
          "color": "#EF553B",
          "pattern": {
           "shape": ""
          }
         },
         "name": "Biology",
         "offsetgroup": "Biology",
         "orientation": "v",
         "showlegend": true,
         "textposition": "auto",
         "type": "bar",
         "x": [
          "Czech",
          "Spanish",
          "Persian",
          "Hindi",
          "Lithuanian",
          "Dutch; Flemish",
          "Panjabi; Punjabi",
          "Polish",
          "Slovak",
          "Telugu",
          "Ukrainian"
         ],
         "xaxis": "x",
         "y": [
          0,
          0,
          0,
          0,
          119,
          152,
          0,
          62,
          12,
          0,
          288
         ],
         "yaxis": "y"
        },
        {
         "alignmentgroup": "True",
         "hovertemplate": "Exam Subject=Chemistry<br>Language=%{x}<br>Count=%{y}<extra></extra>",
         "legendgroup": "Chemistry",
         "marker": {
          "color": "#00cc96",
          "pattern": {
           "shape": ""
          }
         },
         "name": "Chemistry",
         "offsetgroup": "Chemistry",
         "orientation": "v",
         "showlegend": true,
         "textposition": "auto",
         "type": "bar",
         "x": [
          "Czech",
          "Spanish",
          "Persian",
          "Hindi",
          "Lithuanian",
          "Dutch; Flemish",
          "Panjabi; Punjabi",
          "Polish",
          "Slovak",
          "Telugu",
          "Ukrainian"
         ],
         "xaxis": "x",
         "y": [
          0,
          0,
          0,
          8000,
          30,
          0,
          0,
          2,
          14,
          8000,
          94
         ],
         "yaxis": "y"
        },
        {
         "alignmentgroup": "True",
         "hovertemplate": "Exam Subject=Driving<br>Language=%{x}<br>Count=%{y}<extra></extra>",
         "legendgroup": "Driving",
         "marker": {
          "color": "#ab63fa",
          "pattern": {
           "shape": ""
          }
         },
         "name": "Driving",
         "offsetgroup": "Driving",
         "orientation": "v",
         "showlegend": true,
         "textposition": "auto",
         "type": "bar",
         "x": [
          "Czech",
          "Spanish",
          "Persian",
          "Hindi",
          "Lithuanian",
          "Dutch; Flemish",
          "Panjabi; Punjabi",
          "Polish",
          "Slovak",
          "Telugu",
          "Ukrainian"
         ],
         "xaxis": "x",
         "y": [
          0,
          0,
          0,
          345,
          0,
          0,
          0,
          0,
          0,
          0,
          0
         ],
         "yaxis": "y"
        },
        {
         "alignmentgroup": "True",
         "hovertemplate": "Exam Subject=Economics<br>Language=%{x}<br>Count=%{y}<extra></extra>",
         "legendgroup": "Economics",
         "marker": {
          "color": "#FFA15A",
          "pattern": {
           "shape": ""
          }
         },
         "name": "Economics",
         "offsetgroup": "Economics",
         "orientation": "v",
         "showlegend": true,
         "textposition": "auto",
         "type": "bar",
         "x": [
          "Czech",
          "Spanish",
          "Persian",
          "Hindi",
          "Lithuanian",
          "Dutch; Flemish",
          "Panjabi; Punjabi",
          "Polish",
          "Slovak",
          "Telugu",
          "Ukrainian"
         ],
         "xaxis": "x",
         "y": [
          0,
          0,
          0,
          0,
          0,
          15,
          0,
          0,
          0,
          0,
          0
         ],
         "yaxis": "y"
        },
        {
         "alignmentgroup": "True",
         "hovertemplate": "Exam Subject=Geography<br>Language=%{x}<br>Count=%{y}<extra></extra>",
         "legendgroup": "Geography",
         "marker": {
          "color": "#19d3f3",
          "pattern": {
           "shape": ""
          }
         },
         "name": "Geography",
         "offsetgroup": "Geography",
         "orientation": "v",
         "showlegend": true,
         "textposition": "auto",
         "type": "bar",
         "x": [
          "Czech",
          "Spanish",
          "Persian",
          "Hindi",
          "Lithuanian",
          "Dutch; Flemish",
          "Panjabi; Punjabi",
          "Polish",
          "Slovak",
          "Telugu",
          "Ukrainian"
         ],
         "xaxis": "x",
         "y": [
          0,
          0,
          0,
          0,
          138,
          51,
          0,
          16,
          0,
          0,
          288
         ],
         "yaxis": "y"
        },
        {
         "alignmentgroup": "True",
         "hovertemplate": "Exam Subject=History<br>Language=%{x}<br>Count=%{y}<extra></extra>",
         "legendgroup": "History",
         "marker": {
          "color": "#FF6692",
          "pattern": {
           "shape": ""
          }
         },
         "name": "History",
         "offsetgroup": "History",
         "orientation": "v",
         "showlegend": true,
         "textposition": "auto",
         "type": "bar",
         "x": [
          "Czech",
          "Spanish",
          "Persian",
          "Hindi",
          "Lithuanian",
          "Dutch; Flemish",
          "Panjabi; Punjabi",
          "Polish",
          "Slovak",
          "Telugu",
          "Ukrainian"
         ],
         "xaxis": "x",
         "y": [
          0,
          0,
          0,
          0,
          150,
          0,
          0,
          7,
          0,
          0,
          0
         ],
         "yaxis": "y"
        },
        {
         "alignmentgroup": "True",
         "hovertemplate": "Exam Subject=History and Civics<br>Language=%{x}<br>Count=%{y}<extra></extra>",
         "legendgroup": "History and Civics",
         "marker": {
          "color": "#B6E880",
          "pattern": {
           "shape": ""
          }
         },
         "name": "History and Civics",
         "offsetgroup": "History and Civics",
         "orientation": "v",
         "showlegend": true,
         "textposition": "auto",
         "type": "bar",
         "x": [
          "Czech",
          "Spanish",
          "Persian",
          "Hindi",
          "Lithuanian",
          "Dutch; Flemish",
          "Panjabi; Punjabi",
          "Polish",
          "Slovak",
          "Telugu",
          "Ukrainian"
         ],
         "xaxis": "x",
         "y": [
          0,
          0,
          0,
          0,
          0,
          15,
          0,
          0,
          0,
          0,
          0
         ],
         "yaxis": "y"
        },
        {
         "alignmentgroup": "True",
         "hovertemplate": "Exam Subject=Math<br>Language=%{x}<br>Count=%{y}<extra></extra>",
         "legendgroup": "Math",
         "marker": {
          "color": "#FF97FF",
          "pattern": {
           "shape": ""
          }
         },
         "name": "Math",
         "offsetgroup": "Math",
         "orientation": "v",
         "showlegend": true,
         "textposition": "auto",
         "type": "bar",
         "x": [
          "Czech",
          "Spanish",
          "Persian",
          "Hindi",
          "Lithuanian",
          "Dutch; Flemish",
          "Panjabi; Punjabi",
          "Polish",
          "Slovak",
          "Telugu",
          "Ukrainian"
         ],
         "xaxis": "x",
         "y": [
          0,
          0,
          0,
          0,
          10,
          0,
          0,
          0,
          0,
          0,
          0
         ],
         "yaxis": "y"
        },
        {
         "alignmentgroup": "True",
         "hovertemplate": "Exam Subject=Mathematics<br>Language=%{x}<br>Count=%{y}<extra></extra>",
         "legendgroup": "Mathematics",
         "marker": {
          "color": "#FECB52",
          "pattern": {
           "shape": ""
          }
         },
         "name": "Mathematics",
         "offsetgroup": "Mathematics",
         "orientation": "v",
         "showlegend": true,
         "textposition": "auto",
         "type": "bar",
         "x": [
          "Czech",
          "Spanish",
          "Persian",
          "Hindi",
          "Lithuanian",
          "Dutch; Flemish",
          "Panjabi; Punjabi",
          "Polish",
          "Slovak",
          "Telugu",
          "Ukrainian"
         ],
         "xaxis": "x",
         "y": [
          0,
          0,
          0,
          0,
          0,
          0,
          0,
          33,
          0,
          0,
          3
         ],
         "yaxis": "y"
        },
        {
         "alignmentgroup": "True",
         "hovertemplate": "Exam Subject=Maths<br>Language=%{x}<br>Count=%{y}<extra></extra>",
         "legendgroup": "Maths",
         "marker": {
          "color": "#636efa",
          "pattern": {
           "shape": ""
          }
         },
         "name": "Maths",
         "offsetgroup": "Maths",
         "orientation": "v",
         "showlegend": true,
         "textposition": "auto",
         "type": "bar",
         "x": [
          "Czech",
          "Spanish",
          "Persian",
          "Hindi",
          "Lithuanian",
          "Dutch; Flemish",
          "Panjabi; Punjabi",
          "Polish",
          "Slovak",
          "Telugu",
          "Ukrainian"
         ],
         "xaxis": "x",
         "y": [
          74,
          0,
          0,
          0,
          0,
          0,
          0,
          0,
          9,
          0,
          0
         ],
         "yaxis": "y"
        },
        {
         "alignmentgroup": "True",
         "hovertemplate": "Exam Subject=Medicine<br>Language=%{x}<br>Count=%{y}<extra></extra>",
         "legendgroup": "Medicine",
         "marker": {
          "color": "#EF553B",
          "pattern": {
           "shape": ""
          }
         },
         "name": "Medicine",
         "offsetgroup": "Medicine",
         "orientation": "v",
         "showlegend": true,
         "textposition": "auto",
         "type": "bar",
         "x": [
          "Czech",
          "Spanish",
          "Persian",
          "Hindi",
          "Lithuanian",
          "Dutch; Flemish",
          "Panjabi; Punjabi",
          "Polish",
          "Slovak",
          "Telugu",
          "Ukrainian"
         ],
         "xaxis": "x",
         "y": [
          0,
          1179,
          0,
          0,
          0,
          0,
          0,
          0,
          0,
          0,
          0
         ],
         "yaxis": "y"
        },
        {
         "alignmentgroup": "True",
         "hovertemplate": "Exam Subject=Nursing<br>Language=%{x}<br>Count=%{y}<extra></extra>",
         "legendgroup": "Nursing",
         "marker": {
          "color": "#00cc96",
          "pattern": {
           "shape": ""
          }
         },
         "name": "Nursing",
         "offsetgroup": "Nursing",
         "orientation": "v",
         "showlegend": true,
         "textposition": "auto",
         "type": "bar",
         "x": [
          "Czech",
          "Spanish",
          "Persian",
          "Hindi",
          "Lithuanian",
          "Dutch; Flemish",
          "Panjabi; Punjabi",
          "Polish",
          "Slovak",
          "Telugu",
          "Ukrainian"
         ],
         "xaxis": "x",
         "y": [
          0,
          977,
          0,
          0,
          0,
          0,
          0,
          0,
          0,
          0,
          0
         ],
         "yaxis": "y"
        },
        {
         "alignmentgroup": "True",
         "hovertemplate": "Exam Subject=Philosophy<br>Language=%{x}<br>Count=%{y}<extra></extra>",
         "legendgroup": "Philosophy",
         "marker": {
          "color": "#ab63fa",
          "pattern": {
           "shape": ""
          }
         },
         "name": "Philosophy",
         "offsetgroup": "Philosophy",
         "orientation": "v",
         "showlegend": true,
         "textposition": "auto",
         "type": "bar",
         "x": [
          "Czech",
          "Spanish",
          "Persian",
          "Hindi",
          "Lithuanian",
          "Dutch; Flemish",
          "Panjabi; Punjabi",
          "Polish",
          "Slovak",
          "Telugu",
          "Ukrainian"
         ],
         "xaxis": "x",
         "y": [
          0,
          0,
          0,
          0,
          0,
          0,
          0,
          1,
          0,
          0,
          0
         ],
         "yaxis": "y"
        },
        {
         "alignmentgroup": "True",
         "hovertemplate": "Exam Subject=Physics<br>Language=%{x}<br>Count=%{y}<extra></extra>",
         "legendgroup": "Physics",
         "marker": {
          "color": "#FFA15A",
          "pattern": {
           "shape": ""
          }
         },
         "name": "Physics",
         "offsetgroup": "Physics",
         "orientation": "v",
         "showlegend": true,
         "textposition": "auto",
         "type": "bar",
         "x": [
          "Czech",
          "Spanish",
          "Persian",
          "Hindi",
          "Lithuanian",
          "Dutch; Flemish",
          "Panjabi; Punjabi",
          "Polish",
          "Slovak",
          "Telugu",
          "Ukrainian"
         ],
         "xaxis": "x",
         "y": [
          0,
          0,
          0,
          0,
          30,
          2,
          0,
          32,
          0,
          0,
          71
         ],
         "yaxis": "y"
        },
        {
         "alignmentgroup": "True",
         "hovertemplate": "Exam Subject=Social Studies 2<br>Language=%{x}<br>Count=%{y}<extra></extra>",
         "legendgroup": "Social Studies 2",
         "marker": {
          "color": "#19d3f3",
          "pattern": {
           "shape": ""
          }
         },
         "name": "Social Studies 2",
         "offsetgroup": "Social Studies 2",
         "orientation": "v",
         "showlegend": true,
         "textposition": "auto",
         "type": "bar",
         "x": [
          "Czech",
          "Spanish",
          "Persian",
          "Hindi",
          "Lithuanian",
          "Dutch; Flemish",
          "Panjabi; Punjabi",
          "Polish",
          "Slovak",
          "Telugu",
          "Ukrainian"
         ],
         "xaxis": "x",
         "y": [
          0,
          0,
          0,
          0,
          0,
          14,
          0,
          0,
          0,
          0,
          0
         ],
         "yaxis": "y"
        },
        {
         "alignmentgroup": "True",
         "hovertemplate": "Exam Subject=Ukrainian History<br>Language=%{x}<br>Count=%{y}<extra></extra>",
         "legendgroup": "Ukrainian History",
         "marker": {
          "color": "#FF6692",
          "pattern": {
           "shape": ""
          }
         },
         "name": "Ukrainian History",
         "offsetgroup": "Ukrainian History",
         "orientation": "v",
         "showlegend": true,
         "textposition": "auto",
         "type": "bar",
         "x": [
          "Czech",
          "Spanish",
          "Persian",
          "Hindi",
          "Lithuanian",
          "Dutch; Flemish",
          "Panjabi; Punjabi",
          "Polish",
          "Slovak",
          "Telugu",
          "Ukrainian"
         ],
         "xaxis": "x",
         "y": [
          0,
          0,
          0,
          0,
          0,
          0,
          0,
          0,
          0,
          0,
          450
         ],
         "yaxis": "y"
        },
        {
         "alignmentgroup": "True",
         "hovertemplate": "Exam Subject=Ukrainian Language and Literature<br>Language=%{x}<br>Count=%{y}<extra></extra>",
         "legendgroup": "Ukrainian Language and Literature",
         "marker": {
          "color": "#B6E880",
          "pattern": {
           "shape": ""
          }
         },
         "name": "Ukrainian Language and Literature",
         "offsetgroup": "Ukrainian Language and Literature",
         "orientation": "v",
         "showlegend": true,
         "textposition": "auto",
         "type": "bar",
         "x": [
          "Czech",
          "Spanish",
          "Persian",
          "Hindi",
          "Lithuanian",
          "Dutch; Flemish",
          "Panjabi; Punjabi",
          "Polish",
          "Slovak",
          "Telugu",
          "Ukrainian"
         ],
         "xaxis": "x",
         "y": [
          0,
          0,
          0,
          0,
          0,
          0,
          0,
          0,
          0,
          0,
          9
         ],
         "yaxis": "y"
        },
        {
         "alignmentgroup": "True",
         "hovertemplate": "Exam Subject=biologie<br>Language=%{x}<br>Count=%{y}<extra></extra>",
         "legendgroup": "biologie",
         "marker": {
          "color": "#FF97FF",
          "pattern": {
           "shape": ""
          }
         },
         "name": "biologie",
         "offsetgroup": "biologie",
         "orientation": "v",
         "showlegend": true,
         "textposition": "auto",
         "type": "bar",
         "x": [
          "Czech",
          "Spanish",
          "Persian",
          "Hindi",
          "Lithuanian",
          "Dutch; Flemish",
          "Panjabi; Punjabi",
          "Polish",
          "Slovak",
          "Telugu",
          "Ukrainian"
         ],
         "xaxis": "x",
         "y": [
          0,
          0,
          0,
          0,
          0,
          14,
          0,
          0,
          0,
          0,
          0
         ],
         "yaxis": "y"
        },
        {
         "alignmentgroup": "True",
         "hovertemplate": "Exam Subject=biology<br>Language=%{x}<br>Count=%{y}<extra></extra>",
         "legendgroup": "biology",
         "marker": {
          "color": "#FECB52",
          "pattern": {
           "shape": ""
          }
         },
         "name": "biology",
         "offsetgroup": "biology",
         "orientation": "v",
         "showlegend": true,
         "textposition": "auto",
         "type": "bar",
         "x": [
          "Czech",
          "Spanish",
          "Persian",
          "Hindi",
          "Lithuanian",
          "Dutch; Flemish",
          "Panjabi; Punjabi",
          "Polish",
          "Slovak",
          "Telugu",
          "Ukrainian"
         ],
         "xaxis": "x",
         "y": [
          0,
          0,
          0,
          0,
          0,
          209,
          1,
          0,
          0,
          0,
          0
         ],
         "yaxis": "y"
        },
        {
         "alignmentgroup": "True",
         "hovertemplate": "Exam Subject=chemistry<br>Language=%{x}<br>Count=%{y}<extra></extra>",
         "legendgroup": "chemistry",
         "marker": {
          "color": "#636efa",
          "pattern": {
           "shape": ""
          }
         },
         "name": "chemistry",
         "offsetgroup": "chemistry",
         "orientation": "v",
         "showlegend": true,
         "textposition": "auto",
         "type": "bar",
         "x": [
          "Czech",
          "Spanish",
          "Persian",
          "Hindi",
          "Lithuanian",
          "Dutch; Flemish",
          "Panjabi; Punjabi",
          "Polish",
          "Slovak",
          "Telugu",
          "Ukrainian"
         ],
         "xaxis": "x",
         "y": [
          0,
          0,
          0,
          167,
          0,
          150,
          2,
          0,
          0,
          0,
          0
         ],
         "yaxis": "y"
        },
        {
         "alignmentgroup": "True",
         "hovertemplate": "Exam Subject=clear<br>Language=%{x}<br>Count=%{y}<extra></extra>",
         "legendgroup": "clear",
         "marker": {
          "color": "#EF553B",
          "pattern": {
           "shape": ""
          }
         },
         "name": "clear",
         "offsetgroup": "clear",
         "orientation": "v",
         "showlegend": true,
         "textposition": "auto",
         "type": "bar",
         "x": [
          "Czech",
          "Spanish",
          "Persian",
          "Hindi",
          "Lithuanian",
          "Dutch; Flemish",
          "Panjabi; Punjabi",
          "Polish",
          "Slovak",
          "Telugu",
          "Ukrainian"
         ],
         "xaxis": "x",
         "y": [
          0,
          0,
          0,
          0,
          0,
          23,
          0,
          0,
          0,
          0,
          0
         ],
         "yaxis": "y"
        },
        {
         "alignmentgroup": "True",
         "hovertemplate": "Exam Subject=computer concepts<br>Language=%{x}<br>Count=%{y}<extra></extra>",
         "legendgroup": "computer concepts",
         "marker": {
          "color": "#00cc96",
          "pattern": {
           "shape": ""
          }
         },
         "name": "computer concepts",
         "offsetgroup": "computer concepts",
         "orientation": "v",
         "showlegend": true,
         "textposition": "auto",
         "type": "bar",
         "x": [
          "Czech",
          "Spanish",
          "Persian",
          "Hindi",
          "Lithuanian",
          "Dutch; Flemish",
          "Panjabi; Punjabi",
          "Polish",
          "Slovak",
          "Telugu",
          "Ukrainian"
         ],
         "xaxis": "x",
         "y": [
          0,
          0,
          0,
          11,
          0,
          0,
          0,
          0,
          0,
          0,
          0
         ],
         "yaxis": "y"
        },
        {
         "alignmentgroup": "True",
         "hovertemplate": "Exam Subject=computer science<br>Language=%{x}<br>Count=%{y}<extra></extra>",
         "legendgroup": "computer science",
         "marker": {
          "color": "#ab63fa",
          "pattern": {
           "shape": ""
          }
         },
         "name": "computer science",
         "offsetgroup": "computer science",
         "orientation": "v",
         "showlegend": true,
         "textposition": "auto",
         "type": "bar",
         "x": [
          "Czech",
          "Spanish",
          "Persian",
          "Hindi",
          "Lithuanian",
          "Dutch; Flemish",
          "Panjabi; Punjabi",
          "Polish",
          "Slovak",
          "Telugu",
          "Ukrainian"
         ],
         "xaxis": "x",
         "y": [
          0,
          0,
          0,
          11,
          0,
          0,
          0,
          0,
          0,
          0,
          0
         ],
         "yaxis": "y"
        },
        {
         "alignmentgroup": "True",
         "hovertemplate": "Exam Subject=drawing aptitude<br>Language=%{x}<br>Count=%{y}<extra></extra>",
         "legendgroup": "drawing aptitude",
         "marker": {
          "color": "#FFA15A",
          "pattern": {
           "shape": ""
          }
         },
         "name": "drawing aptitude",
         "offsetgroup": "drawing aptitude",
         "orientation": "v",
         "showlegend": true,
         "textposition": "auto",
         "type": "bar",
         "x": [
          "Czech",
          "Spanish",
          "Persian",
          "Hindi",
          "Lithuanian",
          "Dutch; Flemish",
          "Panjabi; Punjabi",
          "Polish",
          "Slovak",
          "Telugu",
          "Ukrainian"
         ],
         "xaxis": "x",
         "y": [
          0,
          0,
          0,
          7,
          0,
          0,
          0,
          0,
          0,
          0,
          0
         ],
         "yaxis": "y"
        },
        {
         "alignmentgroup": "True",
         "hovertemplate": "Exam Subject=driving licence<br>Language=%{x}<br>Count=%{y}<extra></extra>",
         "legendgroup": "driving licence",
         "marker": {
          "color": "#19d3f3",
          "pattern": {
           "shape": ""
          }
         },
         "name": "driving licence",
         "offsetgroup": "driving licence",
         "orientation": "v",
         "showlegend": true,
         "textposition": "auto",
         "type": "bar",
         "x": [
          "Czech",
          "Spanish",
          "Persian",
          "Hindi",
          "Lithuanian",
          "Dutch; Flemish",
          "Panjabi; Punjabi",
          "Polish",
          "Slovak",
          "Telugu",
          "Ukrainian"
         ],
         "xaxis": "x",
         "y": [
          0,
          0,
          67,
          0,
          0,
          0,
          0,
          0,
          0,
          0,
          0
         ],
         "yaxis": "y"
        },
        {
         "alignmentgroup": "True",
         "hovertemplate": "Exam Subject=electronics<br>Language=%{x}<br>Count=%{y}<extra></extra>",
         "legendgroup": "electronics",
         "marker": {
          "color": "#FF6692",
          "pattern": {
           "shape": ""
          }
         },
         "name": "electronics",
         "offsetgroup": "electronics",
         "orientation": "v",
         "showlegend": true,
         "textposition": "auto",
         "type": "bar",
         "x": [
          "Czech",
          "Spanish",
          "Persian",
          "Hindi",
          "Lithuanian",
          "Dutch; Flemish",
          "Panjabi; Punjabi",
          "Polish",
          "Slovak",
          "Telugu",
          "Ukrainian"
         ],
         "xaxis": "x",
         "y": [
          0,
          0,
          0,
          20,
          0,
          0,
          0,
          0,
          0,
          0,
          0
         ],
         "yaxis": "y"
        },
        {
         "alignmentgroup": "True",
         "hovertemplate": "Exam Subject=general knowledge<br>Language=%{x}<br>Count=%{y}<extra></extra>",
         "legendgroup": "general knowledge",
         "marker": {
          "color": "#B6E880",
          "pattern": {
           "shape": ""
          }
         },
         "name": "general knowledge",
         "offsetgroup": "general knowledge",
         "orientation": "v",
         "showlegend": true,
         "textposition": "auto",
         "type": "bar",
         "x": [
          "Czech",
          "Spanish",
          "Persian",
          "Hindi",
          "Lithuanian",
          "Dutch; Flemish",
          "Panjabi; Punjabi",
          "Polish",
          "Slovak",
          "Telugu",
          "Ukrainian"
         ],
         "xaxis": "x",
         "y": [
          0,
          0,
          0,
          25,
          0,
          0,
          0,
          0,
          0,
          0,
          0
         ],
         "yaxis": "y"
        },
        {
         "alignmentgroup": "True",
         "hovertemplate": "Exam Subject=informatic olympiad<br>Language=%{x}<br>Count=%{y}<extra></extra>",
         "legendgroup": "informatic olympiad",
         "marker": {
          "color": "#FF97FF",
          "pattern": {
           "shape": ""
          }
         },
         "name": "informatic olympiad",
         "offsetgroup": "informatic olympiad",
         "orientation": "v",
         "showlegend": true,
         "textposition": "auto",
         "type": "bar",
         "x": [
          "Czech",
          "Spanish",
          "Persian",
          "Hindi",
          "Lithuanian",
          "Dutch; Flemish",
          "Panjabi; Punjabi",
          "Polish",
          "Slovak",
          "Telugu",
          "Ukrainian"
         ],
         "xaxis": "x",
         "y": [
          0,
          0,
          1053,
          0,
          0,
          0,
          0,
          0,
          0,
          0,
          0
         ],
         "yaxis": "y"
        },
        {
         "alignmentgroup": "True",
         "hovertemplate": "Exam Subject=math<br>Language=%{x}<br>Count=%{y}<extra></extra>",
         "legendgroup": "math",
         "marker": {
          "color": "#FECB52",
          "pattern": {
           "shape": ""
          }
         },
         "name": "math",
         "offsetgroup": "math",
         "orientation": "v",
         "showlegend": true,
         "textposition": "auto",
         "type": "bar",
         "x": [
          "Czech",
          "Spanish",
          "Persian",
          "Hindi",
          "Lithuanian",
          "Dutch; Flemish",
          "Panjabi; Punjabi",
          "Polish",
          "Slovak",
          "Telugu",
          "Ukrainian"
         ],
         "xaxis": "x",
         "y": [
          0,
          0,
          0,
          0,
          0,
          13,
          0,
          0,
          0,
          0,
          0
         ],
         "yaxis": "y"
        },
        {
         "alignmentgroup": "True",
         "hovertemplate": "Exam Subject=mathematics<br>Language=%{x}<br>Count=%{y}<extra></extra>",
         "legendgroup": "mathematics",
         "marker": {
          "color": "#636efa",
          "pattern": {
           "shape": ""
          }
         },
         "name": "mathematics",
         "offsetgroup": "mathematics",
         "orientation": "v",
         "showlegend": true,
         "textposition": "auto",
         "type": "bar",
         "x": [
          "Czech",
          "Spanish",
          "Persian",
          "Hindi",
          "Lithuanian",
          "Dutch; Flemish",
          "Panjabi; Punjabi",
          "Polish",
          "Slovak",
          "Telugu",
          "Ukrainian"
         ],
         "xaxis": "x",
         "y": [
          0,
          0,
          0,
          0,
          0,
          109,
          0,
          0,
          0,
          0,
          0
         ],
         "yaxis": "y"
        },
        {
         "alignmentgroup": "True",
         "hovertemplate": "Exam Subject=maths<br>Language=%{x}<br>Count=%{y}<extra></extra>",
         "legendgroup": "maths",
         "marker": {
          "color": "#EF553B",
          "pattern": {
           "shape": ""
          }
         },
         "name": "maths",
         "offsetgroup": "maths",
         "orientation": "v",
         "showlegend": true,
         "textposition": "auto",
         "type": "bar",
         "x": [
          "Czech",
          "Spanish",
          "Persian",
          "Hindi",
          "Lithuanian",
          "Dutch; Flemish",
          "Panjabi; Punjabi",
          "Polish",
          "Slovak",
          "Telugu",
          "Ukrainian"
         ],
         "xaxis": "x",
         "y": [
          0,
          0,
          0,
          501,
          0,
          0,
          6,
          0,
          0,
          0,
          0
         ],
         "yaxis": "y"
        },
        {
         "alignmentgroup": "True",
         "hovertemplate": "Exam Subject=mental ability<br>Language=%{x}<br>Count=%{y}<extra></extra>",
         "legendgroup": "mental ability",
         "marker": {
          "color": "#00cc96",
          "pattern": {
           "shape": ""
          }
         },
         "name": "mental ability",
         "offsetgroup": "mental ability",
         "orientation": "v",
         "showlegend": true,
         "textposition": "auto",
         "type": "bar",
         "x": [
          "Czech",
          "Spanish",
          "Persian",
          "Hindi",
          "Lithuanian",
          "Dutch; Flemish",
          "Panjabi; Punjabi",
          "Polish",
          "Slovak",
          "Telugu",
          "Ukrainian"
         ],
         "xaxis": "x",
         "y": [
          0,
          0,
          0,
          0,
          0,
          0,
          23,
          0,
          0,
          0,
          0
         ],
         "yaxis": "y"
        },
        {
         "alignmentgroup": "True",
         "hovertemplate": "Exam Subject=numerical ability<br>Language=%{x}<br>Count=%{y}<extra></extra>",
         "legendgroup": "numerical ability",
         "marker": {
          "color": "#ab63fa",
          "pattern": {
           "shape": ""
          }
         },
         "name": "numerical ability",
         "offsetgroup": "numerical ability",
         "orientation": "v",
         "showlegend": true,
         "textposition": "auto",
         "type": "bar",
         "x": [
          "Czech",
          "Spanish",
          "Persian",
          "Hindi",
          "Lithuanian",
          "Dutch; Flemish",
          "Panjabi; Punjabi",
          "Polish",
          "Slovak",
          "Telugu",
          "Ukrainian"
         ],
         "xaxis": "x",
         "y": [
          0,
          0,
          0,
          19,
          0,
          0,
          0,
          0,
          0,
          0,
          0
         ],
         "yaxis": "y"
        },
        {
         "alignmentgroup": "True",
         "hovertemplate": "Exam Subject=olympiads<br>Language=%{x}<br>Count=%{y}<extra></extra>",
         "legendgroup": "olympiads",
         "marker": {
          "color": "#FFA15A",
          "pattern": {
           "shape": ""
          }
         },
         "name": "olympiads",
         "offsetgroup": "olympiads",
         "orientation": "v",
         "showlegend": true,
         "textposition": "auto",
         "type": "bar",
         "x": [
          "Czech",
          "Spanish",
          "Persian",
          "Hindi",
          "Lithuanian",
          "Dutch; Flemish",
          "Panjabi; Punjabi",
          "Polish",
          "Slovak",
          "Telugu",
          "Ukrainian"
         ],
         "xaxis": "x",
         "y": [
          0,
          0,
          0,
          255,
          0,
          0,
          0,
          0,
          0,
          0,
          0
         ],
         "yaxis": "y"
        },
        {
         "alignmentgroup": "True",
         "hovertemplate": "Exam Subject=physics<br>Language=%{x}<br>Count=%{y}<extra></extra>",
         "legendgroup": "physics",
         "marker": {
          "color": "#19d3f3",
          "pattern": {
           "shape": ""
          }
         },
         "name": "physics",
         "offsetgroup": "physics",
         "orientation": "v",
         "showlegend": true,
         "textposition": "auto",
         "type": "bar",
         "x": [
          "Czech",
          "Spanish",
          "Persian",
          "Hindi",
          "Lithuanian",
          "Dutch; Flemish",
          "Panjabi; Punjabi",
          "Polish",
          "Slovak",
          "Telugu",
          "Ukrainian"
         ],
         "xaxis": "x",
         "y": [
          0,
          0,
          0,
          238,
          0,
          118,
          5,
          0,
          0,
          0,
          0
         ],
         "yaxis": "y"
        },
        {
         "alignmentgroup": "True",
         "hovertemplate": "Exam Subject=reasoning<br>Language=%{x}<br>Count=%{y}<extra></extra>",
         "legendgroup": "reasoning",
         "marker": {
          "color": "#FF6692",
          "pattern": {
           "shape": ""
          }
         },
         "name": "reasoning",
         "offsetgroup": "reasoning",
         "orientation": "v",
         "showlegend": true,
         "textposition": "auto",
         "type": "bar",
         "x": [
          "Czech",
          "Spanish",
          "Persian",
          "Hindi",
          "Lithuanian",
          "Dutch; Flemish",
          "Panjabi; Punjabi",
          "Polish",
          "Slovak",
          "Telugu",
          "Ukrainian"
         ],
         "xaxis": "x",
         "y": [
          0,
          0,
          0,
          37,
          0,
          0,
          64,
          0,
          0,
          0,
          0
         ],
         "yaxis": "y"
        },
        {
         "alignmentgroup": "True",
         "hovertemplate": "Exam Subject=skills<br>Language=%{x}<br>Count=%{y}<extra></extra>",
         "legendgroup": "skills",
         "marker": {
          "color": "#B6E880",
          "pattern": {
           "shape": ""
          }
         },
         "name": "skills",
         "offsetgroup": "skills",
         "orientation": "v",
         "showlegend": true,
         "textposition": "auto",
         "type": "bar",
         "x": [
          "Czech",
          "Spanish",
          "Persian",
          "Hindi",
          "Lithuanian",
          "Dutch; Flemish",
          "Panjabi; Punjabi",
          "Polish",
          "Slovak",
          "Telugu",
          "Ukrainian"
         ],
         "xaxis": "x",
         "y": [
          0,
          0,
          0,
          0,
          0,
          38,
          0,
          0,
          0,
          0,
          0
         ],
         "yaxis": "y"
        },
        {
         "alignmentgroup": "True",
         "hovertemplate": "Exam Subject=stilleestekst<br>Language=%{x}<br>Count=%{y}<extra></extra>",
         "legendgroup": "stilleestekst",
         "marker": {
          "color": "#FF97FF",
          "pattern": {
           "shape": ""
          }
         },
         "name": "stilleestekst",
         "offsetgroup": "stilleestekst",
         "orientation": "v",
         "showlegend": true,
         "textposition": "auto",
         "type": "bar",
         "x": [
          "Czech",
          "Spanish",
          "Persian",
          "Hindi",
          "Lithuanian",
          "Dutch; Flemish",
          "Panjabi; Punjabi",
          "Polish",
          "Slovak",
          "Telugu",
          "Ukrainian"
         ],
         "xaxis": "x",
         "y": [
          0,
          0,
          0,
          0,
          0,
          137,
          0,
          0,
          0,
          0,
          0
         ],
         "yaxis": "y"
        },
        {
         "alignmentgroup": "True",
         "hovertemplate": "Exam Subject=vaardig<br>Language=%{x}<br>Count=%{y}<extra></extra>",
         "legendgroup": "vaardig",
         "marker": {
          "color": "#FECB52",
          "pattern": {
           "shape": ""
          }
         },
         "name": "vaardig",
         "offsetgroup": "vaardig",
         "orientation": "v",
         "showlegend": true,
         "textposition": "auto",
         "type": "bar",
         "x": [
          "Czech",
          "Spanish",
          "Persian",
          "Hindi",
          "Lithuanian",
          "Dutch; Flemish",
          "Panjabi; Punjabi",
          "Polish",
          "Slovak",
          "Telugu",
          "Ukrainian"
         ],
         "xaxis": "x",
         "y": [
          0,
          0,
          0,
          0,
          0,
          35,
          0,
          0,
          0,
          0,
          0
         ],
         "yaxis": "y"
        },
        {
         "alignmentgroup": "True",
         "hovertemplate": "Exam Subject=wiskunde<br>Language=%{x}<br>Count=%{y}<extra></extra>",
         "legendgroup": "wiskunde",
         "marker": {
          "color": "#636efa",
          "pattern": {
           "shape": ""
          }
         },
         "name": "wiskunde",
         "offsetgroup": "wiskunde",
         "orientation": "v",
         "showlegend": true,
         "textposition": "auto",
         "type": "bar",
         "x": [
          "Czech",
          "Spanish",
          "Persian",
          "Hindi",
          "Lithuanian",
          "Dutch; Flemish",
          "Panjabi; Punjabi",
          "Polish",
          "Slovak",
          "Telugu",
          "Ukrainian"
         ],
         "xaxis": "x",
         "y": [
          0,
          0,
          0,
          0,
          0,
          15,
          0,
          0,
          0,
          0,
          0
         ],
         "yaxis": "y"
        }
       ],
       "layout": {
        "barmode": "stack",
        "legend": {
         "title": {
          "text": "Exam Subject"
         },
         "tracegroupgap": 0
        },
        "margin": {
         "t": 60
        },
        "template": {
         "data": {
          "bar": [
           {
            "error_x": {
             "color": "#2a3f5f"
            },
            "error_y": {
             "color": "#2a3f5f"
            },
            "marker": {
             "line": {
              "color": "#E5ECF6",
              "width": 0.5
             },
             "pattern": {
              "fillmode": "overlay",
              "size": 10,
              "solidity": 0.2
             }
            },
            "type": "bar"
           }
          ],
          "barpolar": [
           {
            "marker": {
             "line": {
              "color": "#E5ECF6",
              "width": 0.5
             },
             "pattern": {
              "fillmode": "overlay",
              "size": 10,
              "solidity": 0.2
             }
            },
            "type": "barpolar"
           }
          ],
          "carpet": [
           {
            "aaxis": {
             "endlinecolor": "#2a3f5f",
             "gridcolor": "white",
             "linecolor": "white",
             "minorgridcolor": "white",
             "startlinecolor": "#2a3f5f"
            },
            "baxis": {
             "endlinecolor": "#2a3f5f",
             "gridcolor": "white",
             "linecolor": "white",
             "minorgridcolor": "white",
             "startlinecolor": "#2a3f5f"
            },
            "type": "carpet"
           }
          ],
          "choropleth": [
           {
            "colorbar": {
             "outlinewidth": 0,
             "ticks": ""
            },
            "type": "choropleth"
           }
          ],
          "contour": [
           {
            "colorbar": {
             "outlinewidth": 0,
             "ticks": ""
            },
            "colorscale": [
             [
              0,
              "#0d0887"
             ],
             [
              0.1111111111111111,
              "#46039f"
             ],
             [
              0.2222222222222222,
              "#7201a8"
             ],
             [
              0.3333333333333333,
              "#9c179e"
             ],
             [
              0.4444444444444444,
              "#bd3786"
             ],
             [
              0.5555555555555556,
              "#d8576b"
             ],
             [
              0.6666666666666666,
              "#ed7953"
             ],
             [
              0.7777777777777778,
              "#fb9f3a"
             ],
             [
              0.8888888888888888,
              "#fdca26"
             ],
             [
              1,
              "#f0f921"
             ]
            ],
            "type": "contour"
           }
          ],
          "contourcarpet": [
           {
            "colorbar": {
             "outlinewidth": 0,
             "ticks": ""
            },
            "type": "contourcarpet"
           }
          ],
          "heatmap": [
           {
            "colorbar": {
             "outlinewidth": 0,
             "ticks": ""
            },
            "colorscale": [
             [
              0,
              "#0d0887"
             ],
             [
              0.1111111111111111,
              "#46039f"
             ],
             [
              0.2222222222222222,
              "#7201a8"
             ],
             [
              0.3333333333333333,
              "#9c179e"
             ],
             [
              0.4444444444444444,
              "#bd3786"
             ],
             [
              0.5555555555555556,
              "#d8576b"
             ],
             [
              0.6666666666666666,
              "#ed7953"
             ],
             [
              0.7777777777777778,
              "#fb9f3a"
             ],
             [
              0.8888888888888888,
              "#fdca26"
             ],
             [
              1,
              "#f0f921"
             ]
            ],
            "type": "heatmap"
           }
          ],
          "heatmapgl": [
           {
            "colorbar": {
             "outlinewidth": 0,
             "ticks": ""
            },
            "colorscale": [
             [
              0,
              "#0d0887"
             ],
             [
              0.1111111111111111,
              "#46039f"
             ],
             [
              0.2222222222222222,
              "#7201a8"
             ],
             [
              0.3333333333333333,
              "#9c179e"
             ],
             [
              0.4444444444444444,
              "#bd3786"
             ],
             [
              0.5555555555555556,
              "#d8576b"
             ],
             [
              0.6666666666666666,
              "#ed7953"
             ],
             [
              0.7777777777777778,
              "#fb9f3a"
             ],
             [
              0.8888888888888888,
              "#fdca26"
             ],
             [
              1,
              "#f0f921"
             ]
            ],
            "type": "heatmapgl"
           }
          ],
          "histogram": [
           {
            "marker": {
             "pattern": {
              "fillmode": "overlay",
              "size": 10,
              "solidity": 0.2
             }
            },
            "type": "histogram"
           }
          ],
          "histogram2d": [
           {
            "colorbar": {
             "outlinewidth": 0,
             "ticks": ""
            },
            "colorscale": [
             [
              0,
              "#0d0887"
             ],
             [
              0.1111111111111111,
              "#46039f"
             ],
             [
              0.2222222222222222,
              "#7201a8"
             ],
             [
              0.3333333333333333,
              "#9c179e"
             ],
             [
              0.4444444444444444,
              "#bd3786"
             ],
             [
              0.5555555555555556,
              "#d8576b"
             ],
             [
              0.6666666666666666,
              "#ed7953"
             ],
             [
              0.7777777777777778,
              "#fb9f3a"
             ],
             [
              0.8888888888888888,
              "#fdca26"
             ],
             [
              1,
              "#f0f921"
             ]
            ],
            "type": "histogram2d"
           }
          ],
          "histogram2dcontour": [
           {
            "colorbar": {
             "outlinewidth": 0,
             "ticks": ""
            },
            "colorscale": [
             [
              0,
              "#0d0887"
             ],
             [
              0.1111111111111111,
              "#46039f"
             ],
             [
              0.2222222222222222,
              "#7201a8"
             ],
             [
              0.3333333333333333,
              "#9c179e"
             ],
             [
              0.4444444444444444,
              "#bd3786"
             ],
             [
              0.5555555555555556,
              "#d8576b"
             ],
             [
              0.6666666666666666,
              "#ed7953"
             ],
             [
              0.7777777777777778,
              "#fb9f3a"
             ],
             [
              0.8888888888888888,
              "#fdca26"
             ],
             [
              1,
              "#f0f921"
             ]
            ],
            "type": "histogram2dcontour"
           }
          ],
          "mesh3d": [
           {
            "colorbar": {
             "outlinewidth": 0,
             "ticks": ""
            },
            "type": "mesh3d"
           }
          ],
          "parcoords": [
           {
            "line": {
             "colorbar": {
              "outlinewidth": 0,
              "ticks": ""
             }
            },
            "type": "parcoords"
           }
          ],
          "pie": [
           {
            "automargin": true,
            "type": "pie"
           }
          ],
          "scatter": [
           {
            "fillpattern": {
             "fillmode": "overlay",
             "size": 10,
             "solidity": 0.2
            },
            "type": "scatter"
           }
          ],
          "scatter3d": [
           {
            "line": {
             "colorbar": {
              "outlinewidth": 0,
              "ticks": ""
             }
            },
            "marker": {
             "colorbar": {
              "outlinewidth": 0,
              "ticks": ""
             }
            },
            "type": "scatter3d"
           }
          ],
          "scattercarpet": [
           {
            "marker": {
             "colorbar": {
              "outlinewidth": 0,
              "ticks": ""
             }
            },
            "type": "scattercarpet"
           }
          ],
          "scattergeo": [
           {
            "marker": {
             "colorbar": {
              "outlinewidth": 0,
              "ticks": ""
             }
            },
            "type": "scattergeo"
           }
          ],
          "scattergl": [
           {
            "marker": {
             "colorbar": {
              "outlinewidth": 0,
              "ticks": ""
             }
            },
            "type": "scattergl"
           }
          ],
          "scattermapbox": [
           {
            "marker": {
             "colorbar": {
              "outlinewidth": 0,
              "ticks": ""
             }
            },
            "type": "scattermapbox"
           }
          ],
          "scatterpolar": [
           {
            "marker": {
             "colorbar": {
              "outlinewidth": 0,
              "ticks": ""
             }
            },
            "type": "scatterpolar"
           }
          ],
          "scatterpolargl": [
           {
            "marker": {
             "colorbar": {
              "outlinewidth": 0,
              "ticks": ""
             }
            },
            "type": "scatterpolargl"
           }
          ],
          "scatterternary": [
           {
            "marker": {
             "colorbar": {
              "outlinewidth": 0,
              "ticks": ""
             }
            },
            "type": "scatterternary"
           }
          ],
          "surface": [
           {
            "colorbar": {
             "outlinewidth": 0,
             "ticks": ""
            },
            "colorscale": [
             [
              0,
              "#0d0887"
             ],
             [
              0.1111111111111111,
              "#46039f"
             ],
             [
              0.2222222222222222,
              "#7201a8"
             ],
             [
              0.3333333333333333,
              "#9c179e"
             ],
             [
              0.4444444444444444,
              "#bd3786"
             ],
             [
              0.5555555555555556,
              "#d8576b"
             ],
             [
              0.6666666666666666,
              "#ed7953"
             ],
             [
              0.7777777777777778,
              "#fb9f3a"
             ],
             [
              0.8888888888888888,
              "#fdca26"
             ],
             [
              1,
              "#f0f921"
             ]
            ],
            "type": "surface"
           }
          ],
          "table": [
           {
            "cells": {
             "fill": {
              "color": "#EBF0F8"
             },
             "line": {
              "color": "white"
             }
            },
            "header": {
             "fill": {
              "color": "#C8D4E3"
             },
             "line": {
              "color": "white"
             }
            },
            "type": "table"
           }
          ]
         },
         "layout": {
          "annotationdefaults": {
           "arrowcolor": "#2a3f5f",
           "arrowhead": 0,
           "arrowwidth": 1
          },
          "autotypenumbers": "strict",
          "coloraxis": {
           "colorbar": {
            "outlinewidth": 0,
            "ticks": ""
           }
          },
          "colorscale": {
           "diverging": [
            [
             0,
             "#8e0152"
            ],
            [
             0.1,
             "#c51b7d"
            ],
            [
             0.2,
             "#de77ae"
            ],
            [
             0.3,
             "#f1b6da"
            ],
            [
             0.4,
             "#fde0ef"
            ],
            [
             0.5,
             "#f7f7f7"
            ],
            [
             0.6,
             "#e6f5d0"
            ],
            [
             0.7,
             "#b8e186"
            ],
            [
             0.8,
             "#7fbc41"
            ],
            [
             0.9,
             "#4d9221"
            ],
            [
             1,
             "#276419"
            ]
           ],
           "sequential": [
            [
             0,
             "#0d0887"
            ],
            [
             0.1111111111111111,
             "#46039f"
            ],
            [
             0.2222222222222222,
             "#7201a8"
            ],
            [
             0.3333333333333333,
             "#9c179e"
            ],
            [
             0.4444444444444444,
             "#bd3786"
            ],
            [
             0.5555555555555556,
             "#d8576b"
            ],
            [
             0.6666666666666666,
             "#ed7953"
            ],
            [
             0.7777777777777778,
             "#fb9f3a"
            ],
            [
             0.8888888888888888,
             "#fdca26"
            ],
            [
             1,
             "#f0f921"
            ]
           ],
           "sequentialminus": [
            [
             0,
             "#0d0887"
            ],
            [
             0.1111111111111111,
             "#46039f"
            ],
            [
             0.2222222222222222,
             "#7201a8"
            ],
            [
             0.3333333333333333,
             "#9c179e"
            ],
            [
             0.4444444444444444,
             "#bd3786"
            ],
            [
             0.5555555555555556,
             "#d8576b"
            ],
            [
             0.6666666666666666,
             "#ed7953"
            ],
            [
             0.7777777777777778,
             "#fb9f3a"
            ],
            [
             0.8888888888888888,
             "#fdca26"
            ],
            [
             1,
             "#f0f921"
            ]
           ]
          },
          "colorway": [
           "#636efa",
           "#EF553B",
           "#00cc96",
           "#ab63fa",
           "#FFA15A",
           "#19d3f3",
           "#FF6692",
           "#B6E880",
           "#FF97FF",
           "#FECB52"
          ],
          "font": {
           "color": "#2a3f5f"
          },
          "geo": {
           "bgcolor": "white",
           "lakecolor": "white",
           "landcolor": "#E5ECF6",
           "showlakes": true,
           "showland": true,
           "subunitcolor": "white"
          },
          "hoverlabel": {
           "align": "left"
          },
          "hovermode": "closest",
          "mapbox": {
           "style": "light"
          },
          "paper_bgcolor": "white",
          "plot_bgcolor": "#E5ECF6",
          "polar": {
           "angularaxis": {
            "gridcolor": "white",
            "linecolor": "white",
            "ticks": ""
           },
           "bgcolor": "#E5ECF6",
           "radialaxis": {
            "gridcolor": "white",
            "linecolor": "white",
            "ticks": ""
           }
          },
          "scene": {
           "xaxis": {
            "backgroundcolor": "#E5ECF6",
            "gridcolor": "white",
            "gridwidth": 2,
            "linecolor": "white",
            "showbackground": true,
            "ticks": "",
            "zerolinecolor": "white"
           },
           "yaxis": {
            "backgroundcolor": "#E5ECF6",
            "gridcolor": "white",
            "gridwidth": 2,
            "linecolor": "white",
            "showbackground": true,
            "ticks": "",
            "zerolinecolor": "white"
           },
           "zaxis": {
            "backgroundcolor": "#E5ECF6",
            "gridcolor": "white",
            "gridwidth": 2,
            "linecolor": "white",
            "showbackground": true,
            "ticks": "",
            "zerolinecolor": "white"
           }
          },
          "shapedefaults": {
           "line": {
            "color": "#2a3f5f"
           }
          },
          "ternary": {
           "aaxis": {
            "gridcolor": "white",
            "linecolor": "white",
            "ticks": ""
           },
           "baxis": {
            "gridcolor": "white",
            "linecolor": "white",
            "ticks": ""
           },
           "bgcolor": "#E5ECF6",
           "caxis": {
            "gridcolor": "white",
            "linecolor": "white",
            "ticks": ""
           }
          },
          "title": {
           "x": 0.05
          },
          "xaxis": {
           "automargin": true,
           "gridcolor": "white",
           "linecolor": "white",
           "ticks": "",
           "title": {
            "standoff": 15
           },
           "zerolinecolor": "white",
           "zerolinewidth": 2
          },
          "yaxis": {
           "automargin": true,
           "gridcolor": "white",
           "linecolor": "white",
           "ticks": "",
           "title": {
            "standoff": 15
           },
           "zerolinecolor": "white",
           "zerolinewidth": 2
          }
         }
        },
        "xaxis": {
         "anchor": "y",
         "domain": [
          0,
          1
         ],
         "title": {
          "text": "Language"
         }
        },
        "yaxis": {
         "anchor": "x",
         "domain": [
          0,
          1
         ],
         "title": {
          "text": "Count"
         }
        }
       }
      }
     },
     "metadata": {},
     "output_type": "display_data"
    }
   ],
   "source": [
    "def plot_stacked_bar(file_path):\n",
    "    \"\"\"\n",
    "    Reads a CSV file with exam questions, groups the data by language and level,\n",
    "    and displays a stacked bar plot where each language shows the distribution of question levels.\n",
    "    \n",
    "    Parameters:\n",
    "        file_path (str): Path to the CSV file containing at least 'language' and 'level' columns.\n",
    "    \"\"\"\n",
    "    # Read the CSV file into a DataFrame\n",
    "    df = pd.read_csv(file_path)\n",
    "    \n",
    "    if 'Overall' in df['language'].values:\n",
    "        df = df[df['language'] != 'Overall']\n",
    "    \n",
    "    # Transform the DataFrame from wide to long format\n",
    "    df_long = df.melt(id_vars=['language'], \n",
    "                      var_name='Exam Subject', \n",
    "                      value_name='Count')\n",
    "    \n",
    "    # Create a stacked bar plot using Plotly Express\n",
    "    fig = px.bar(\n",
    "        df_long,\n",
    "        x='language',\n",
    "        y='Count',\n",
    "        color='Exam Subject',\n",
    "        barmode='stack',\n",
    "        labels={'language': 'Language'}\n",
    "    )\n",
    "    \n",
    "    # Show the figure\n",
    "    fig.show()\n",
    "\n",
    "# Example usage:\n",
    "plot_stacked_bar(\"eval_results\\statistics\\category_en_per_language.csv\")"
   ]
  },
  {
   "cell_type": "code",
   "execution_count": 28,
   "metadata": {},
   "outputs": [
    {
     "data": {
      "application/vnd.plotly.v1+json": {
       "config": {
        "plotlyServerURL": "https://plot.ly"
       },
       "data": [
        {
         "alignmentgroup": "True",
         "hovertemplate": "Question Type=Text Only<br>Language=%{x}<br>Number of Questions=%{y}<extra></extra>",
         "legendgroup": "Text Only",
         "marker": {
          "color": "#636efa",
          "pattern": {
           "shape": ""
          }
         },
         "name": "Text Only",
         "offsetgroup": "Text Only",
         "orientation": "v",
         "showlegend": true,
         "textposition": "auto",
         "type": "bar",
         "x": [
          "Czech",
          "Dutch; Flemish",
          "Hindi",
          "Lithuanian",
          "Panjabi; Punjabi",
          "Persian",
          "Polish",
          "Slovak",
          "Spanish",
          "Ukrainian"
         ],
         "xaxis": "x",
         "y": [
          7,
          601,
          627,
          307,
          8,
          709,
          2,
          6,
          1946,
          126
         ],
         "yaxis": "y"
        },
        {
         "alignmentgroup": "True",
         "hovertemplate": "Question Type=With Image<br>Language=%{x}<br>Number of Questions=%{y}<extra></extra>",
         "legendgroup": "With Image",
         "marker": {
          "color": "#EF553B",
          "pattern": {
           "shape": ""
          }
         },
         "name": "With Image",
         "offsetgroup": "With Image",
         "orientation": "v",
         "showlegend": true,
         "textposition": "auto",
         "type": "bar",
         "x": [
          "Czech",
          "Dutch; Flemish",
          "Hindi",
          "Lithuanian",
          "Panjabi; Punjabi",
          "Persian",
          "Polish",
          "Slovak",
          "Spanish",
          "Telugu",
          "Ukrainian"
         ],
         "xaxis": "x",
         "y": [
          67,
          509,
          9482,
          170,
          93,
          411,
          151,
          29,
          210,
          8000,
          1077
         ],
         "yaxis": "y"
        }
       ],
       "layout": {
        "barmode": "group",
        "legend": {
         "title": {
          "text": "Question Type"
         },
         "tracegroupgap": 0
        },
        "margin": {
         "t": 60
        },
        "template": {
         "data": {
          "bar": [
           {
            "error_x": {
             "color": "#2a3f5f"
            },
            "error_y": {
             "color": "#2a3f5f"
            },
            "marker": {
             "line": {
              "color": "#E5ECF6",
              "width": 0.5
             },
             "pattern": {
              "fillmode": "overlay",
              "size": 10,
              "solidity": 0.2
             }
            },
            "type": "bar"
           }
          ],
          "barpolar": [
           {
            "marker": {
             "line": {
              "color": "#E5ECF6",
              "width": 0.5
             },
             "pattern": {
              "fillmode": "overlay",
              "size": 10,
              "solidity": 0.2
             }
            },
            "type": "barpolar"
           }
          ],
          "carpet": [
           {
            "aaxis": {
             "endlinecolor": "#2a3f5f",
             "gridcolor": "white",
             "linecolor": "white",
             "minorgridcolor": "white",
             "startlinecolor": "#2a3f5f"
            },
            "baxis": {
             "endlinecolor": "#2a3f5f",
             "gridcolor": "white",
             "linecolor": "white",
             "minorgridcolor": "white",
             "startlinecolor": "#2a3f5f"
            },
            "type": "carpet"
           }
          ],
          "choropleth": [
           {
            "colorbar": {
             "outlinewidth": 0,
             "ticks": ""
            },
            "type": "choropleth"
           }
          ],
          "contour": [
           {
            "colorbar": {
             "outlinewidth": 0,
             "ticks": ""
            },
            "colorscale": [
             [
              0,
              "#0d0887"
             ],
             [
              0.1111111111111111,
              "#46039f"
             ],
             [
              0.2222222222222222,
              "#7201a8"
             ],
             [
              0.3333333333333333,
              "#9c179e"
             ],
             [
              0.4444444444444444,
              "#bd3786"
             ],
             [
              0.5555555555555556,
              "#d8576b"
             ],
             [
              0.6666666666666666,
              "#ed7953"
             ],
             [
              0.7777777777777778,
              "#fb9f3a"
             ],
             [
              0.8888888888888888,
              "#fdca26"
             ],
             [
              1,
              "#f0f921"
             ]
            ],
            "type": "contour"
           }
          ],
          "contourcarpet": [
           {
            "colorbar": {
             "outlinewidth": 0,
             "ticks": ""
            },
            "type": "contourcarpet"
           }
          ],
          "heatmap": [
           {
            "colorbar": {
             "outlinewidth": 0,
             "ticks": ""
            },
            "colorscale": [
             [
              0,
              "#0d0887"
             ],
             [
              0.1111111111111111,
              "#46039f"
             ],
             [
              0.2222222222222222,
              "#7201a8"
             ],
             [
              0.3333333333333333,
              "#9c179e"
             ],
             [
              0.4444444444444444,
              "#bd3786"
             ],
             [
              0.5555555555555556,
              "#d8576b"
             ],
             [
              0.6666666666666666,
              "#ed7953"
             ],
             [
              0.7777777777777778,
              "#fb9f3a"
             ],
             [
              0.8888888888888888,
              "#fdca26"
             ],
             [
              1,
              "#f0f921"
             ]
            ],
            "type": "heatmap"
           }
          ],
          "heatmapgl": [
           {
            "colorbar": {
             "outlinewidth": 0,
             "ticks": ""
            },
            "colorscale": [
             [
              0,
              "#0d0887"
             ],
             [
              0.1111111111111111,
              "#46039f"
             ],
             [
              0.2222222222222222,
              "#7201a8"
             ],
             [
              0.3333333333333333,
              "#9c179e"
             ],
             [
              0.4444444444444444,
              "#bd3786"
             ],
             [
              0.5555555555555556,
              "#d8576b"
             ],
             [
              0.6666666666666666,
              "#ed7953"
             ],
             [
              0.7777777777777778,
              "#fb9f3a"
             ],
             [
              0.8888888888888888,
              "#fdca26"
             ],
             [
              1,
              "#f0f921"
             ]
            ],
            "type": "heatmapgl"
           }
          ],
          "histogram": [
           {
            "marker": {
             "pattern": {
              "fillmode": "overlay",
              "size": 10,
              "solidity": 0.2
             }
            },
            "type": "histogram"
           }
          ],
          "histogram2d": [
           {
            "colorbar": {
             "outlinewidth": 0,
             "ticks": ""
            },
            "colorscale": [
             [
              0,
              "#0d0887"
             ],
             [
              0.1111111111111111,
              "#46039f"
             ],
             [
              0.2222222222222222,
              "#7201a8"
             ],
             [
              0.3333333333333333,
              "#9c179e"
             ],
             [
              0.4444444444444444,
              "#bd3786"
             ],
             [
              0.5555555555555556,
              "#d8576b"
             ],
             [
              0.6666666666666666,
              "#ed7953"
             ],
             [
              0.7777777777777778,
              "#fb9f3a"
             ],
             [
              0.8888888888888888,
              "#fdca26"
             ],
             [
              1,
              "#f0f921"
             ]
            ],
            "type": "histogram2d"
           }
          ],
          "histogram2dcontour": [
           {
            "colorbar": {
             "outlinewidth": 0,
             "ticks": ""
            },
            "colorscale": [
             [
              0,
              "#0d0887"
             ],
             [
              0.1111111111111111,
              "#46039f"
             ],
             [
              0.2222222222222222,
              "#7201a8"
             ],
             [
              0.3333333333333333,
              "#9c179e"
             ],
             [
              0.4444444444444444,
              "#bd3786"
             ],
             [
              0.5555555555555556,
              "#d8576b"
             ],
             [
              0.6666666666666666,
              "#ed7953"
             ],
             [
              0.7777777777777778,
              "#fb9f3a"
             ],
             [
              0.8888888888888888,
              "#fdca26"
             ],
             [
              1,
              "#f0f921"
             ]
            ],
            "type": "histogram2dcontour"
           }
          ],
          "mesh3d": [
           {
            "colorbar": {
             "outlinewidth": 0,
             "ticks": ""
            },
            "type": "mesh3d"
           }
          ],
          "parcoords": [
           {
            "line": {
             "colorbar": {
              "outlinewidth": 0,
              "ticks": ""
             }
            },
            "type": "parcoords"
           }
          ],
          "pie": [
           {
            "automargin": true,
            "type": "pie"
           }
          ],
          "scatter": [
           {
            "fillpattern": {
             "fillmode": "overlay",
             "size": 10,
             "solidity": 0.2
            },
            "type": "scatter"
           }
          ],
          "scatter3d": [
           {
            "line": {
             "colorbar": {
              "outlinewidth": 0,
              "ticks": ""
             }
            },
            "marker": {
             "colorbar": {
              "outlinewidth": 0,
              "ticks": ""
             }
            },
            "type": "scatter3d"
           }
          ],
          "scattercarpet": [
           {
            "marker": {
             "colorbar": {
              "outlinewidth": 0,
              "ticks": ""
             }
            },
            "type": "scattercarpet"
           }
          ],
          "scattergeo": [
           {
            "marker": {
             "colorbar": {
              "outlinewidth": 0,
              "ticks": ""
             }
            },
            "type": "scattergeo"
           }
          ],
          "scattergl": [
           {
            "marker": {
             "colorbar": {
              "outlinewidth": 0,
              "ticks": ""
             }
            },
            "type": "scattergl"
           }
          ],
          "scattermapbox": [
           {
            "marker": {
             "colorbar": {
              "outlinewidth": 0,
              "ticks": ""
             }
            },
            "type": "scattermapbox"
           }
          ],
          "scatterpolar": [
           {
            "marker": {
             "colorbar": {
              "outlinewidth": 0,
              "ticks": ""
             }
            },
            "type": "scatterpolar"
           }
          ],
          "scatterpolargl": [
           {
            "marker": {
             "colorbar": {
              "outlinewidth": 0,
              "ticks": ""
             }
            },
            "type": "scatterpolargl"
           }
          ],
          "scatterternary": [
           {
            "marker": {
             "colorbar": {
              "outlinewidth": 0,
              "ticks": ""
             }
            },
            "type": "scatterternary"
           }
          ],
          "surface": [
           {
            "colorbar": {
             "outlinewidth": 0,
             "ticks": ""
            },
            "colorscale": [
             [
              0,
              "#0d0887"
             ],
             [
              0.1111111111111111,
              "#46039f"
             ],
             [
              0.2222222222222222,
              "#7201a8"
             ],
             [
              0.3333333333333333,
              "#9c179e"
             ],
             [
              0.4444444444444444,
              "#bd3786"
             ],
             [
              0.5555555555555556,
              "#d8576b"
             ],
             [
              0.6666666666666666,
              "#ed7953"
             ],
             [
              0.7777777777777778,
              "#fb9f3a"
             ],
             [
              0.8888888888888888,
              "#fdca26"
             ],
             [
              1,
              "#f0f921"
             ]
            ],
            "type": "surface"
           }
          ],
          "table": [
           {
            "cells": {
             "fill": {
              "color": "#EBF0F8"
             },
             "line": {
              "color": "white"
             }
            },
            "header": {
             "fill": {
              "color": "#C8D4E3"
             },
             "line": {
              "color": "white"
             }
            },
            "type": "table"
           }
          ]
         },
         "layout": {
          "annotationdefaults": {
           "arrowcolor": "#2a3f5f",
           "arrowhead": 0,
           "arrowwidth": 1
          },
          "autotypenumbers": "strict",
          "coloraxis": {
           "colorbar": {
            "outlinewidth": 0,
            "ticks": ""
           }
          },
          "colorscale": {
           "diverging": [
            [
             0,
             "#8e0152"
            ],
            [
             0.1,
             "#c51b7d"
            ],
            [
             0.2,
             "#de77ae"
            ],
            [
             0.3,
             "#f1b6da"
            ],
            [
             0.4,
             "#fde0ef"
            ],
            [
             0.5,
             "#f7f7f7"
            ],
            [
             0.6,
             "#e6f5d0"
            ],
            [
             0.7,
             "#b8e186"
            ],
            [
             0.8,
             "#7fbc41"
            ],
            [
             0.9,
             "#4d9221"
            ],
            [
             1,
             "#276419"
            ]
           ],
           "sequential": [
            [
             0,
             "#0d0887"
            ],
            [
             0.1111111111111111,
             "#46039f"
            ],
            [
             0.2222222222222222,
             "#7201a8"
            ],
            [
             0.3333333333333333,
             "#9c179e"
            ],
            [
             0.4444444444444444,
             "#bd3786"
            ],
            [
             0.5555555555555556,
             "#d8576b"
            ],
            [
             0.6666666666666666,
             "#ed7953"
            ],
            [
             0.7777777777777778,
             "#fb9f3a"
            ],
            [
             0.8888888888888888,
             "#fdca26"
            ],
            [
             1,
             "#f0f921"
            ]
           ],
           "sequentialminus": [
            [
             0,
             "#0d0887"
            ],
            [
             0.1111111111111111,
             "#46039f"
            ],
            [
             0.2222222222222222,
             "#7201a8"
            ],
            [
             0.3333333333333333,
             "#9c179e"
            ],
            [
             0.4444444444444444,
             "#bd3786"
            ],
            [
             0.5555555555555556,
             "#d8576b"
            ],
            [
             0.6666666666666666,
             "#ed7953"
            ],
            [
             0.7777777777777778,
             "#fb9f3a"
            ],
            [
             0.8888888888888888,
             "#fdca26"
            ],
            [
             1,
             "#f0f921"
            ]
           ]
          },
          "colorway": [
           "#636efa",
           "#EF553B",
           "#00cc96",
           "#ab63fa",
           "#FFA15A",
           "#19d3f3",
           "#FF6692",
           "#B6E880",
           "#FF97FF",
           "#FECB52"
          ],
          "font": {
           "color": "#2a3f5f"
          },
          "geo": {
           "bgcolor": "white",
           "lakecolor": "white",
           "landcolor": "#E5ECF6",
           "showlakes": true,
           "showland": true,
           "subunitcolor": "white"
          },
          "hoverlabel": {
           "align": "left"
          },
          "hovermode": "closest",
          "mapbox": {
           "style": "light"
          },
          "paper_bgcolor": "white",
          "plot_bgcolor": "#E5ECF6",
          "polar": {
           "angularaxis": {
            "gridcolor": "white",
            "linecolor": "white",
            "ticks": ""
           },
           "bgcolor": "#E5ECF6",
           "radialaxis": {
            "gridcolor": "white",
            "linecolor": "white",
            "ticks": ""
           }
          },
          "scene": {
           "xaxis": {
            "backgroundcolor": "#E5ECF6",
            "gridcolor": "white",
            "gridwidth": 2,
            "linecolor": "white",
            "showbackground": true,
            "ticks": "",
            "zerolinecolor": "white"
           },
           "yaxis": {
            "backgroundcolor": "#E5ECF6",
            "gridcolor": "white",
            "gridwidth": 2,
            "linecolor": "white",
            "showbackground": true,
            "ticks": "",
            "zerolinecolor": "white"
           },
           "zaxis": {
            "backgroundcolor": "#E5ECF6",
            "gridcolor": "white",
            "gridwidth": 2,
            "linecolor": "white",
            "showbackground": true,
            "ticks": "",
            "zerolinecolor": "white"
           }
          },
          "shapedefaults": {
           "line": {
            "color": "#2a3f5f"
           }
          },
          "ternary": {
           "aaxis": {
            "gridcolor": "white",
            "linecolor": "white",
            "ticks": ""
           },
           "baxis": {
            "gridcolor": "white",
            "linecolor": "white",
            "ticks": ""
           },
           "bgcolor": "#E5ECF6",
           "caxis": {
            "gridcolor": "white",
            "linecolor": "white",
            "ticks": ""
           }
          },
          "title": {
           "x": 0.05
          },
          "xaxis": {
           "automargin": true,
           "gridcolor": "white",
           "linecolor": "white",
           "ticks": "",
           "title": {
            "standoff": 15
           },
           "zerolinecolor": "white",
           "zerolinewidth": 2
          },
          "yaxis": {
           "automargin": true,
           "gridcolor": "white",
           "linecolor": "white",
           "ticks": "",
           "title": {
            "standoff": 15
           },
           "zerolinecolor": "white",
           "zerolinewidth": 2
          }
         }
        },
        "xaxis": {
         "anchor": "y",
         "domain": [
          0,
          1
         ],
         "title": {
          "text": "Language"
         }
        },
        "yaxis": {
         "anchor": "x",
         "domain": [
          0,
          1
         ],
         "title": {
          "text": "Number of Questions"
         }
        }
       }
      }
     },
     "metadata": {},
     "output_type": "display_data"
    }
   ],
   "source": [
    "from eval_utils import LANGUAGES\n",
    "def plot_image_counts(file_path):\n",
    "    \"\"\"\n",
    "    Reads a JSON file containing exam questions, counts how many have images and how many do not,\n",
    "    and creates a grouped bar plot per language.\n",
    "\n",
    "    The JSON file must have at least:\n",
    "       - 'language': The language of the question.\n",
    "       - 'image_png': A string (or similar) with image data, or null if the question has no image.\n",
    "\n",
    "    Parameters:\n",
    "        file_path (str): Path to the JSON file.\n",
    "    \"\"\"\n",
    "    # Read the JSON file into a DataFrame\n",
    "    df = pd.read_json(file_path)\n",
    "    \n",
    "    # Ensure required columns exist\n",
    "    if not {'language', 'image_png'}.issubset(df.columns):\n",
    "        raise ValueError(\"The JSON file must contain 'language' and 'image_png' columns.\")\n",
    "    \n",
    "    df['language'] = df['language'].apply(lambda code: LANGUAGES.get(code, code))\n",
    "    # Create a new column to classify questions\n",
    "    df['has_image'] = df['image_png'].notnull().map({True: 'With Image', False: 'Text Only'})\n",
    "    \n",
    "    # Count the number of questions per language and image category\n",
    "    grouped = df.groupby(['language', 'has_image']).size().reset_index(name='count')\n",
    "    \n",
    "    # Create the grouped bar plot\n",
    "    fig = px.bar(\n",
    "        grouped,\n",
    "        x='language',\n",
    "        y='count',\n",
    "        color='has_image',\n",
    "        barmode='group',  \n",
    "        labels={\n",
    "            'language': 'Language',\n",
    "            'count': 'Number of Questions',\n",
    "            'has_image': 'Question Type'\n",
    "        }\n",
    "    )\n",
    "    \n",
    "    # Show the plot\n",
    "    fig.show()\n",
    "\n",
    "# Example usage:\n",
    "plot_image_counts(\"eval_results\\inference_results.json\")"
   ]
  },
  {
   "cell_type": "code",
   "execution_count": 9,
   "metadata": {},
   "outputs": [],
   "source": [
    "import pandas as pd\n",
    "import matplotlib.pyplot as plt\n",
    "import numpy as np\n",
    "\n",
    "def generate_spidergraph(data_path: str, output_folder: str):\n",
    "    \"\"\"\n",
    "    Generate a spider (radar) chart comparing multiple models' accuracies across languages.\n",
    "    \n",
    "    Args:\n",
    "        data_path (str): Path to input CSV file.\n",
    "        output_folder (str): Directory where to save the resulting plot.\n",
    "    \"\"\"\n",
    "    # Read and prepare data\n",
    "    df = pd.read_csv(data_path)\n",
    "    df = df[df['language'] != 'Overall']  # Remove overall score\n",
    "    \n",
    "    # Extract languages and models\n",
    "    languages = df['language'].tolist()\n",
    "    models = [col for col in df.columns if col != 'language']\n",
    "    num_vars = len(languages)\n",
    "    \n",
    "    # Calculate angles for radar chart\n",
    "    angles = np.linspace(0, 2 * np.pi, num_vars, endpoint=False).tolist()\n",
    "    angles += angles[:1]  # Close the circle\n",
    "    \n",
    "    # Create figure and polar axis\n",
    "    fig, ax = plt.subplots(figsize=(8, 8), subplot_kw={'projection': 'polar'})\n",
    "    \n",
    "    # Configure polar plot settings\n",
    "    ax.set_theta_direction(-1)  # Clockwise direction\n",
    "    ax.set_theta_offset(np.pi/2)  # Start at top\n",
    "    ax.set_rlim(0, 1)\n",
    "    ax.set_rticks([0, 0.2, 0.4, 0.6, 0.8, 1.0])\n",
    "    ax.set_yticklabels(['0%', '20%', '40%', '60%', '80%', '100%'], \n",
    "                      fontsize=10, color='grey')\n",
    "    ax.grid(color='grey', linestyle='--', linewidth=0.5)\n",
    "    \n",
    "    # Set angular axis labels\n",
    "    ax.set_xticks(angles[:-1])\n",
    "    ax.set_xticklabels(languages, fontsize=14, color='black')\n",
    "    \n",
    "    # Use Matplotlib's color cycle\n",
    "    colors = plt.cm.tab10.colors\n",
    "    \n",
    "    # Plot each model's data\n",
    "    for i, model in enumerate(models):\n",
    "        values = df[model].tolist()\n",
    "        values += values[:1]  # Close the data loop\n",
    "        color = colors[i % len(colors)]\n",
    "        \n",
    "        ax.plot(angles, values, color=color, linewidth=2, \n",
    "               marker='o', markersize=4, label=model)\n",
    "        ax.fill(angles, values, color=color, alpha=0.5)\n",
    "    \n",
    "    # Configure legend\n",
    "    ax.legend(loc='upper center', bbox_to_anchor=(0.5, 1.15),\n",
    "             ncol=len(models), fontsize=14, frameon=False)\n",
    "    \n",
    "    # Save and close figure\n",
    "    plt.tight_layout()\n",
    "    plt.savefig(f\"{output_folder}/accuracy_language_spider.png\", bbox_inches='tight')\n",
    "    plt.close()\n",
    "\n",
    "# Example usage:\n",
    "generate_spidergraph(\"eval_results/results_accuracy/accuracy_across_language.csv\", \"eval_results/plots\")"
   ]
  },
  {
   "cell_type": "code",
   "execution_count": 16,
   "metadata": {},
   "outputs": [
    {
     "data": {
      "image/png": "[encoded data removed]",
      "text/plain": [
       "<Figure size 1000x600 with 1 Axes>"
      ]
     },
     "metadata": {},
     "output_type": "display_data"
    }
   ],
   "source": [
    "import pandas as pd\n",
    "import matplotlib.pyplot as plt\n",
    "from eval_utils import LANGUAGES\n",
    "\n",
    "def plot_image_counts(file_path: str):\n",
    "    \"\"\"\n",
    "    Reads a JSON file containing exam questions, counts how many have images and how many do not,\n",
    "    and creates a grouped bar plot per language.\n",
    "\n",
    "    The JSON file must have at least:\n",
    "       - 'language': The language of the question.\n",
    "       - 'image_png': A string (or similar) with image data, or null if the question has no image.\n",
    "\n",
    "    Parameters:\n",
    "        file_path (str): Path to the JSON file.\n",
    "    \"\"\"\n",
    "    # Read the JSON file into a DataFrame\n",
    "    df = pd.read_json(file_path)\n",
    "    \n",
    "    # Ensure required columns exist\n",
    "    if not {'language', 'image_png'}.issubset(df.columns):\n",
    "        raise ValueError(\"The JSON file must contain 'language' and 'image_png' columns.\")\n",
    "    \n",
    "    # Map language codes to full names (assuming LANGUAGES is defined elsewhere)\n",
    "    df['language'] = df['language'].apply(lambda code: LANGUAGES.get(code, code))\n",
    "    \n",
    "    # Create a new column to classify questions\n",
    "    df['has_image'] = df['image_png'].notnull().map({True: 'Multimodal', False: 'Text Only'})\n",
    "    \n",
    "    # Count the number of questions per language and image category\n",
    "    grouped = df.groupby(['language', 'has_image']).size().reset_index(name='count')\n",
    "    \n",
    "    # Pivot the data for grouped bar plotting\n",
    "    pivot_df = grouped.pivot(index='language', columns='has_image', values='count')\n",
    "    \n",
    "    # Create the grouped bar plot\n",
    "    fig, ax = plt.subplots(figsize=(10, 6))\n",
    "    \n",
    "    # Define positions for the bars\n",
    "    bar_width = 0.35\n",
    "    x = range(len(pivot_df.index))\n",
    "    \n",
    "    # Plot bars for each category\n",
    "    for i, (category, counts) in enumerate(pivot_df.items()):\n",
    "        ax.bar([pos + i * bar_width for pos in x], counts, width=bar_width, label=category)\n",
    "    \n",
    "    # Customize the plot\n",
    "    ax.set_xlabel('Language', fontsize=12)\n",
    "    ax.set_ylabel('Number of Questions', fontsize=12)\n",
    "    ax.set_title('Multimodality distribution per Language', fontsize=14)\n",
    "    ax.set_xticks([pos + bar_width / 2 for pos in x])\n",
    "    ax.set_xticklabels(pivot_df.index, rotation=45, ha='right', fontsize=10)\n",
    "    ax.legend(title='Question Type', fontsize=10)\n",
    "    ax.grid(axis='y', linestyle='--', alpha=0.7)\n",
    "    \n",
    "    # Adjust layout for better spacing\n",
    "    plt.tight_layout()\n",
    "    \n",
    "    # Show the plot\n",
    "    plt.show()\n",
    "\n",
    "# Example usage:\n",
    "plot_image_counts(\"eval_results/inference_results_cleaned.json\")"
   ]
  },
  {
   "cell_type": "code",
   "execution_count": 3,
   "metadata": {},
   "outputs": [
    {
     "data": {
      "image/png": "[encoded data removed]",
      "text/plain": [
       "<Figure size 1000x600 with 1 Axes>"
      ]
     },
     "metadata": {},
     "output_type": "display_data"
    }
   ],
   "source": [
    "import pandas as pd\n",
    "import matplotlib.pyplot as plt\n",
    "\n",
    "def plot_stacked_bar(file_path):\n",
    "    \"\"\"\n",
    "    Reads a CSV file with exam questions, groups the data by language and exam subject,\n",
    "    and displays a stacked bar plot where each language shows the distribution of exam subjects.\n",
    "    \n",
    "    The CSV is expected to have at least a 'language' column, with all other columns representing \n",
    "    counts for different exam subjects.\n",
    "    \n",
    "    Parameters:\n",
    "        file_path (str): Path to the CSV file.\n",
    "    \"\"\"\n",
    "    # Read the CSV file into a DataFrame\n",
    "    df = pd.read_csv(file_path)\n",
    "    \n",
    "    # Exclude rows where language is 'Overall' (if present)\n",
    "    if 'Overall' in df['language'].values:\n",
    "        df = df[df['language'] != 'Overall']\n",
    "    \n",
    "    # Assume that all columns except 'language' are exam subjects.\n",
    "    # Set 'language' as the index and use the remaining columns for the bar plot.\n",
    "    exam_subjects = [col for col in df.columns if col != 'language']\n",
    "    df_pivot = df.set_index('language')[exam_subjects]\n",
    "    \n",
    "    # Create a stacked bar plot\n",
    "    ax = df_pivot.plot(kind='bar', stacked=True, figsize=(10, 6))\n",
    "    \n",
    "    # Set plot labels and title\n",
    "    ax.set_xlabel('Category')\n",
    "    ax.set_ylabel('Count')\n",
    "    ax.set_title('Category Distribution by Language')\n",
    "    plt.legend(title='Categories', bbox_to_anchor=(1.05, 1), loc='upper left')\n",
    "    \n",
    "    # Adjust layout for readability and display the plot\n",
    "    plt.tight_layout()\n",
    "    plt.show()\n",
    "\n",
    "# Example usage:\n",
    "plot_stacked_bar(\"eval_results\\statistics\\category_en_per_language.csv\")"
   ]
  },
  {
   "cell_type": "code",
   "execution_count": 25,
   "metadata": {},
   "outputs": [
    {
     "data": {
      "image/png": "[encoded data removed]",
      "text/plain": [
       "<Figure size 1000x600 with 1 Axes>"
      ]
     },
     "metadata": {},
     "output_type": "display_data"
    }
   ],
   "source": [
    "import pandas as pd\n",
    "import matplotlib.pyplot as plt\n",
    "\n",
    "def plot_stacked_bar(file_path):\n",
    "    \"\"\"\n",
    "    Reads a CSV file with exam questions, groups the data by language and exam subject,\n",
    "    and displays a horizontal stacked bar plot where each language shows the distribution\n",
    "    of exam subjects (counts along the x-axis).\n",
    "    \n",
    "    The CSV is expected to have at least a 'language' column, with all other columns representing \n",
    "    counts for different exam subjects.\n",
    "    \n",
    "    Parameters:\n",
    "        file_path (str): Path to the CSV file.\n",
    "    \"\"\"\n",
    "    # Read the CSV file into a DataFrame\n",
    "    df = pd.read_csv(file_path)\n",
    "    \n",
    "    # Exclude rows where language is 'Overall' (if present)\n",
    "    if 'Overall' in df['language'].values:\n",
    "        df = df[df['language'] != 'Overall']\n",
    "    \n",
    "    # Assume that all columns except 'language' are exam subjects.\n",
    "    exam_subjects = [col for col in df.columns if col != 'language']\n",
    "    df_pivot = df.set_index('language')[exam_subjects]\n",
    "    \n",
    "    # Create a horizontal stacked bar plot\n",
    "    ax = df_pivot.plot(kind='barh', stacked=True, figsize=(10, 6))\n",
    "    \n",
    "    # Set plot labels and title\n",
    "    ax.set_ylabel('Language')\n",
    "    ax.set_xlabel('Count')\n",
    "    ax.set_title('Horizontal Stacked Bar Plot of Exam Questions by Language and Exam Subject')\n",
    "    plt.legend(title='Exam Subject', bbox_to_anchor=(1.05, 1), loc='upper left')\n",
    "    \n",
    "    # Adjust layout for readability and display the plot\n",
    "    plt.tight_layout()\n",
    "    plt.show()\n",
    "\n",
    "# Example usage:\n",
    "plot_stacked_bar(\"eval_results/statistics/category_en_per_language.csv\")"
   ]
  },
  {
   "cell_type": "code",
   "execution_count": null,
   "metadata": {},
   "outputs": [
    {
     "name": "stdout",
     "output_type": "stream",
     "text": [
      "['Chemistry' 'Medicine' 'Nursing' 'Biology' 'Physics' 'Mathematics'\n",
      " 'History' 'Geography' 'Philosophy' 'stilleestekst' 'biology' 'chemistry'\n",
      " 'skills' 'physics' 'vaardig' 'mathematics' 'math' 'biologie' 'clear'\n",
      " 'wiskunde' 'Ukrainian History' 'Ukrainian Language and Literature'\n",
      " 'Maths' 'Math' 'informatic olympiad' 'reasoning' 'maths' 'mental ability'\n",
      " 'driving licence' 'Economics' 'Social Studies 2' 'History and Civics']\n"
     ]
    }
   ],
   "source": [
    "df = pd.read_json('eval_results\\inference_results_cleaned.json')\n",
    "\n",
    "values_category_en = df['category_en'].unique()\n",
    "print(values_category_en)"
   ]
  },
  {
   "cell_type": "code",
   "execution_count": null,
   "metadata": {},
   "outputs": [],
   "source": []
  }
 ],
 "metadata": {
  "kernelspec": {
   "display_name": "Python 3",
   "language": "python",
   "name": "python3"
  },
  "language_info": {
   "codemirror_mode": {
    "name": "ipython",
    "version": 3
   },
   "file_extension": ".py",
   "mimetype": "text/x-python",
   "name": "python",
   "nbconvert_exporter": "python",
   "pygments_lexer": "ipython3",
   "version": "3.11.7"
  }
 },
 "nbformat": 4,
 "nbformat_minor": 2
}
