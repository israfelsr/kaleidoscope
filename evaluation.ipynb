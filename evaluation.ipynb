{
 "cells": [
  {
   "cell_type": "code",
   "execution_count": 25,
   "metadata": {},
   "outputs": [],
   "source": [
    "import pandas as pd\n",
    "import numpy as np\n",
    "from eval_utils import compute_accuracy, get_summary, print_column"
   ]
  },
  {
   "cell_type": "code",
   "execution_count": 28,
   "metadata": {},
   "outputs": [
    {
     "name": "stdout",
     "output_type": "stream",
     "text": [
      "Accuracy saved in results/zero-shot/qwen2.5-72b/full_accuracy.json\n"
     ]
    }
   ],
   "source": [
    "result_path = \"./results/zero-shot/qwen2.5-72b/qwen2.5-72b-formatted.json\"\n",
    "full_acc = pd.read_json(compute_accuracy(result_path))"
   ]
  },
  {
   "cell_type": "code",
   "execution_count": 33,
   "metadata": {},
   "outputs": [
    {
     "data": {
      "text/html": [
       "<div>\n",
       "<style scoped>\n",
       "    .dataframe tbody tr th:only-of-type {\n",
       "        vertical-align: middle;\n",
       "    }\n",
       "\n",
       "    .dataframe tbody tr th {\n",
       "        vertical-align: top;\n",
       "    }\n",
       "\n",
       "    .dataframe thead th {\n",
       "        text-align: right;\n",
       "    }\n",
       "</style>\n",
       "<table border=\"1\" class=\"dataframe\">\n",
       "  <thead>\n",
       "    <tr style=\"text-align: right;\">\n",
       "      <th></th>\n",
       "      <th>language</th>\n",
       "      <th>accuracy</th>\n",
       "      <th>valid_acc</th>\n",
       "      <th>valid_count</th>\n",
       "      <th>total_questions</th>\n",
       "      <th>none_count</th>\n",
       "      <th>correct</th>\n",
       "    </tr>\n",
       "  </thead>\n",
       "  <tbody>\n",
       "    <tr>\n",
       "      <th>0</th>\n",
       "      <td>Bengali</td>\n",
       "      <td>0.207500</td>\n",
       "      <td>0.302920</td>\n",
       "      <td>274</td>\n",
       "      <td>400</td>\n",
       "      <td>126</td>\n",
       "      <td>83.0</td>\n",
       "    </tr>\n",
       "    <tr>\n",
       "      <th>1</th>\n",
       "      <td>Croatian</td>\n",
       "      <td>0.283951</td>\n",
       "      <td>0.283951</td>\n",
       "      <td>162</td>\n",
       "      <td>162</td>\n",
       "      <td>0</td>\n",
       "      <td>46.0</td>\n",
       "    </tr>\n",
       "    <tr>\n",
       "      <th>2</th>\n",
       "      <td>English</td>\n",
       "      <td>0.509828</td>\n",
       "      <td>0.509828</td>\n",
       "      <td>814</td>\n",
       "      <td>814</td>\n",
       "      <td>0</td>\n",
       "      <td>415.0</td>\n",
       "    </tr>\n",
       "    <tr>\n",
       "      <th>3</th>\n",
       "      <td>Hindi</td>\n",
       "      <td>0.235892</td>\n",
       "      <td>0.252111</td>\n",
       "      <td>829</td>\n",
       "      <td>886</td>\n",
       "      <td>57</td>\n",
       "      <td>209.0</td>\n",
       "    </tr>\n",
       "    <tr>\n",
       "      <th>4</th>\n",
       "      <td>Hungarian</td>\n",
       "      <td>0.283929</td>\n",
       "      <td>0.283929</td>\n",
       "      <td>560</td>\n",
       "      <td>560</td>\n",
       "      <td>0</td>\n",
       "      <td>159.0</td>\n",
       "    </tr>\n",
       "    <tr>\n",
       "      <th>5</th>\n",
       "      <td>Portuguese</td>\n",
       "      <td>0.460000</td>\n",
       "      <td>0.460000</td>\n",
       "      <td>1000</td>\n",
       "      <td>1000</td>\n",
       "      <td>0</td>\n",
       "      <td>460.0</td>\n",
       "    </tr>\n",
       "    <tr>\n",
       "      <th>6</th>\n",
       "      <td>Serbian</td>\n",
       "      <td>0.287381</td>\n",
       "      <td>0.287381</td>\n",
       "      <td>943</td>\n",
       "      <td>943</td>\n",
       "      <td>0</td>\n",
       "      <td>271.0</td>\n",
       "    </tr>\n",
       "    <tr>\n",
       "      <th>7</th>\n",
       "      <td>Spanish</td>\n",
       "      <td>0.265857</td>\n",
       "      <td>0.265857</td>\n",
       "      <td>741</td>\n",
       "      <td>741</td>\n",
       "      <td>0</td>\n",
       "      <td>197.0</td>\n",
       "    </tr>\n",
       "    <tr>\n",
       "      <th>8</th>\n",
       "      <td>Ukrainian</td>\n",
       "      <td>0.253165</td>\n",
       "      <td>0.258621</td>\n",
       "      <td>232</td>\n",
       "      <td>237</td>\n",
       "      <td>5</td>\n",
       "      <td>60.0</td>\n",
       "    </tr>\n",
       "  </tbody>\n",
       "</table>\n",
       "</div>"
      ],
      "text/plain": [
       "     language  accuracy  valid_acc  valid_count  total_questions  none_count  \\\n",
       "0     Bengali  0.207500   0.302920          274              400         126   \n",
       "1    Croatian  0.283951   0.283951          162              162           0   \n",
       "2     English  0.509828   0.509828          814              814           0   \n",
       "3       Hindi  0.235892   0.252111          829              886          57   \n",
       "4   Hungarian  0.283929   0.283929          560              560           0   \n",
       "5  Portuguese  0.460000   0.460000         1000             1000           0   \n",
       "6     Serbian  0.287381   0.287381          943              943           0   \n",
       "7     Spanish  0.265857   0.265857          741              741           0   \n",
       "8   Ukrainian  0.253165   0.258621          232              237           5   \n",
       "\n",
       "   correct  \n",
       "0     83.0  \n",
       "1     46.0  \n",
       "2    415.0  \n",
       "3    209.0  \n",
       "4    159.0  \n",
       "5    460.0  \n",
       "6    271.0  \n",
       "7    197.0  \n",
       "8     60.0  "
      ]
     },
     "execution_count": 33,
     "metadata": {},
     "output_type": "execute_result"
    }
   ],
   "source": [
    "summary = get_summary(full_acc, \"language\", \"text-only\")\n",
    "summary"
   ]
  },
  {
   "cell_type": "code",
   "execution_count": 32,
   "metadata": {},
   "outputs": [
    {
     "name": "stdout",
     "output_type": "stream",
     "text": [
      "Accuracy: 31.63823537836068\n",
      "Valid Accuracy: 32.73821723067874\n",
      "failure rate: 4.468883651915856\n"
     ]
    }
   ],
   "source": [
    "accuracy = np.mean(summary['accuracy'])\n",
    "valid_acc = np.mean(summary['valid_acc'])\n",
    "rate = 1 - sum(summary['valid_count'])/sum(summary['total_questions'])\n",
    "print(f\"Accuracy: {accuracy*100}\")\n",
    "print(f\"Valid Accuracy: {valid_acc*100}\")\n",
    "print(f\"failure rate: {rate*100}\")"
   ]
  },
  {
   "cell_type": "code",
   "execution_count": 34,
   "metadata": {},
   "outputs": [
    {
     "data": {
      "text/plain": [
       "np.int64(5743)"
      ]
     },
     "execution_count": 34,
     "metadata": {},
     "output_type": "execute_result"
    }
   ],
   "source": [
    "np.sum(summary['total_questions'])"
   ]
  },
  {
   "cell_type": "code",
   "execution_count": null,
   "metadata": {},
   "outputs": [],
   "source": []
  }
 ],
 "metadata": {
  "kernelspec": {
   "display_name": "mm-exams",
   "language": "python",
   "name": "python3"
  },
  "language_info": {
   "codemirror_mode": {
    "name": "ipython",
    "version": 3
   },
   "file_extension": ".py",
   "mimetype": "text/x-python",
   "name": "python",
   "nbconvert_exporter": "python",
   "pygments_lexer": "ipython3",
   "version": "3.10.12"
  }
 },
 "nbformat": 4,
 "nbformat_minor": 2
}
