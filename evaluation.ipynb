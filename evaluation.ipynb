{
 "cells": [
  {
   "cell_type": "code",
   "execution_count": null,
   "metadata": {},
   "outputs": [],
   "source": [
    "import pandas as pd\n",
    "import numpy as np\n",
    "from eval_utils import compute_accuracy, get_summary"
   ]
  },
  {
   "cell_type": "code",
   "execution_count": null,
   "metadata": {},
   "outputs": [],
   "source": [
    "!ls ./results/qwen2.5-32b/"
   ]
  },
  {
   "cell_type": "code",
   "execution_count": null,
   "metadata": {},
   "outputs": [],
   "source": [
    "result_path = \"./results/zero-shot/pangea/pangea-formatted.json\"\n",
    "full_acc = pd.read_json(compute_accuracy(result_path))"
   ]
  },
  {
   "cell_type": "code",
   "execution_count": null,
   "metadata": {},
   "outputs": [],
   "source": [
    "summary = get_summary(full_acc, \"language\")\n",
    "summary"
   ]
  },
  {
   "cell_type": "code",
   "execution_count": null,
   "metadata": {},
   "outputs": [],
   "source": [
    "accuracy = np.mean(summary['accuracy'])\n",
    "valid_acc = np.mean(summary['valid_acc'])\n",
    "rate = 1 - sum(summary['valid_count'])/sum(summary['total_questions'])\n",
    "print(f\"Accuracy: {accuracy*100}\")\n",
    "print(f\"Valid Accuracy: {valid_acc*100}\")\n",
    "print(f\"Failure Rate: {rate*100}\")\n",
    "print(f\"Total questions:{np.sum(summary['total_questions'])}\")\n",
    "print(f\"Missing questions:{np.sum(summary['none_count'])}\")"
   ]
  },
  {
   "cell_type": "code",
   "execution_count": null,
   "metadata": {},
   "outputs": [],
   "source": [
    "summary[[\"image_type\", 'valid_acc']]"
   ]
  },
  {
   "cell_type": "code",
   "execution_count": null,
   "metadata": {},
   "outputs": [],
   "source": [
    "def print_column(summary, category):\n",
    "    for value in summary[category]:\n",
    "        print(np.round(value*100, decimals=1))\n",
    "        \n",
    "print_column(summary, \"valid_acc\")"
   ]
  },
  {
   "cell_type": "code",
   "execution_count": null,
   "metadata": {},
   "outputs": [],
   "source": [
    "results = None\n",
    "for model_name, p in result_paths.items():\n",
    "    full_acc = pd.read_json(p)\n",
    "    summary = get_summary(full_acc, \"language\")\n",
    "    if results is None:\n",
    "        results = summary[[\"language\", \"none_count\"]]\n",
    "        results = results.rename(columns={\"none_count\": model_name})\n",
    "    else:\n",
    "        results[model_name] = summary['none_count']"
   ]
  },
  {
   "cell_type": "code",
   "execution_count": null,
   "metadata": {},
   "outputs": [],
   "source": [
    "#results = None\n",
    "if results is None:\n",
    "    results = summary[[\"language\", \"none_count\"]]\n",
    "    results = results.rename(columns={\"none_count\": \"qwen2.5-vl-7b\"})\n",
    "else:\n",
    "    results[\"aya\"] = summary['none_count']"
   ]
  },
  {
   "cell_type": "code",
   "execution_count": null,
   "metadata": {},
   "outputs": [],
   "source": [
    "results"
   ]
  },
  {
   "cell_type": "code",
   "execution_count": null,
   "metadata": {},
   "outputs": [],
   "source": [
    "import json\n",
    "with open(\"./results/closed/aya-vision/aya-formatted.json\", \"r\") as f:\n",
    "    data = json.load(f)"
   ]
  },
  {
   "cell_type": "code",
   "execution_count": null,
   "metadata": {},
   "outputs": [],
   "source": [
    "missing = []\n",
    "for sample in data:\n",
    "    if sample['prediction'] not in [0,1,2,3]:\n",
    "        missing.append(sample)"
   ]
  },
  {
   "cell_type": "code",
   "execution_count": null,
   "metadata": {},
   "outputs": [],
   "source": [
    "for k in data[0].keys():\n",
    "    if \"prediction\" in k:\n",
    "        print(k)"
   ]
  },
  {
   "cell_type": "code",
   "execution_count": null,
   "metadata": {},
   "outputs": [],
   "source": [
    "missing = []\n",
    "for sample in data:\n",
    "    if sample['prediction_by_pangea'] not in [0,1,2,3]:\n",
    "        missing.append(sample)"
   ]
  },
  {
   "cell_type": "markdown",
   "metadata": {},
   "source": [
    "# Merge Results"
   ]
  },
  {
   "cell_type": "code",
   "execution_count": null,
   "metadata": {},
   "outputs": [],
   "source": [
    "import json\n",
    "def merge_inference(path):\n",
    "    data = []\n",
    "    for i in range(0,4):\n",
    "        json_path = path + f\"results_{i}.json\"\n",
    "        with open(json_path, \"r\") as f:\n",
    "            data.extend(json.load(f))\n",
    "            print(json_path)\n",
    "    print(f\"Merged Len: {len(data)}\")\n",
    "    output_path = path + \"qwen7b-1024t-512i-en.json\"\n",
    "    with open(output_path, \"w\") as f:\n",
    "        json.dump(data, f, indent=2)\n",
    "    print(f\"Results saved in: {output_path}\")"
   ]
  },
  {
   "cell_type": "code",
   "execution_count": null,
   "metadata": {},
   "outputs": [],
   "source": [
    "merge_inference(\"./results/qwen2.5-7b/\")"
   ]
  },
  {
   "cell_type": "code",
   "execution_count": null,
   "metadata": {},
   "outputs": [],
   "source": [
    "def create_unique_key(sample):\n",
    "    return (\n",
    "        sample['language'],\n",
    "        sample['country'],\n",
    "        sample['file_name'],\n",
    "        sample['source'],\n",
    "        sample['original_question_num'],\n",
    "        sample['question'],\n",
    "        sample['image_png']\n",
    "    )\n",
    "\n",
    "# Create sets of unique keys for both datasets\n",
    "data_keys = set(create_unique_key(sample) for sample in data)\n",
    "len(data_keys)"
   ]
  },
  {
   "cell_type": "code",
   "execution_count": null,
   "metadata": {},
   "outputs": [],
   "source": [
    "missing = []\n",
    "for sample in data:\n",
    "    if sample['prediction'] not in [0,1,2,3]:\n",
    "        missing.append(sample)"
   ]
  },
  {
   "cell_type": "code",
   "execution_count": null,
   "metadata": {},
   "outputs": [],
   "source": [
    "for sample in missing:\n",
    "    print(sample['reasoning'])\n",
    "    print(\"___\")"
   ]
  },
  {
   "cell_type": "code",
   "execution_count": null,
   "metadata": {},
   "outputs": [],
   "source": [
    "import json\n",
    "with open(\"results/pangea/pangea-LLM-formatted.json\", \"r\") as f:\n",
    "    json_str = json.load(f)"
   ]
  },
  {
   "cell_type": "code",
   "execution_count": null,
   "metadata": {},
   "outputs": [],
   "source": [
    "import re\n",
    "import ast\n",
    "values = []\n",
    "for sample in json_str:\n",
    "    for key, v in sample.items():\n",
    "        match = re.search(r'\\{\\s*\"choice\":\\s*.*?\\s*\\}', v)\n",
    "        if match:\n",
    "            try:\n",
    "                json_choice = ast.literal_eval(match.group())\n",
    "                choice = json_choice.get(\"choice\", \"\").strip().upper()\n",
    "                values.append({key:choice})\n",
    "            except:\n",
    "                print(v)"
   ]
  },
  {
   "cell_type": "code",
   "execution_count": null,
   "metadata": {},
   "outputs": [],
   "source": [
    "with open(\"results/pangea/pangea-formatted_v1.json\", \"r\") as f:\n",
    "    data = json.load(f)"
   ]
  },
  {
   "cell_type": "code",
   "execution_count": null,
   "metadata": {},
   "outputs": [],
   "source": [
    "for sample in values:\n",
    "    for k,v in sample.items():\n",
    "        if len(v) == 1:\n",
    "            if data[int(k)]['prediction'] is None:\n",
    "                data[int(k)]['prediction'] = ord(v) - ord(\"A\")"
   ]
  },
  {
   "cell_type": "code",
   "execution_count": null,
   "metadata": {},
   "outputs": [],
   "source": [
    "with open(\"./results/pangea/pangea-formatted_v1.json\", \"w\") as f:\n",
    "    json.dump(data, f, indent=2)"
   ]
  },
  {
   "cell_type": "code",
   "execution_count": null,
   "metadata": {},
   "outputs": [],
   "source": [
    "def read_json(file_path):\n",
    "    with open(file_path, \"r\") as f:\n",
    "        data = json.load(f)\n",
    "    return data\n",
    "\n",
    "def write_json(file_path):\n",
    "    with open(file_path, \"w\") as f:\n",
    "        json.dump(data, f, indent=2)\n",
    "    print(f\"File saved in :{file_path}\")"
   ]
  },
  {
   "cell_type": "code",
   "execution_count": null,
   "metadata": {},
   "outputs": [],
   "source": [
    "for t, sample in enumerate(data):\n",
    "    if not check_if_parse(sample['reasoning']):\n",
    "        print(f\"Index {t}: {sample['reasoning']}\")\n",
    "        user_input = input(\"Enter a letter (A, B, C, D) or 'None' to continue: \").strip().upper()\n",
    "        if user_input == 'NONE':\n",
    "            continue\n",
    "        elif user_input in ['A', 'B', 'C', 'D']:\n",
    "            data[t]['reasoning'] = f'{{\"choice\": \"{user_input}\"}}'\n",
    "        else:\n",
    "            print(\"Invalid input. Continuing to the next item.\")"
   ]
  },
  {
   "cell_type": "code",
   "execution_count": null,
   "metadata": {},
   "outputs": [],
   "source": [
    "languages_order = [\n",
    "    'English', \n",
    "    'French', \n",
    "    'German', \n",
    "    'Dutch; Flemish', \n",
    "    'Portuguese', \n",
    "    'Spanish', \n",
    "    'Arabic', \n",
    "    'Bengali', \n",
    "    'Hindi', \n",
    "    'Telugu', \n",
    "    'Nepali', \n",
    "    'Persian', \n",
    "    'Russian', \n",
    "    'Ukrainian', \n",
    "    'Croatian', \n",
    "    'Serbian', \n",
    "    'Hungarian', \n",
    "    'Lithuanian'\n",
    "]\n",
    "\n",
    "# Convert the 'language' column to a categorical type with the specified order\n",
    "summary['language'] = pd.Categorical(summary['language'], categories=languages_order, ordered=True)\n",
    "\n",
    "# Sort the DataFrame by the 'language' column\n",
    "summary = summary.sort_values('language')"
   ]
  }
 ],
 "metadata": {
  "kernelspec": {
   "display_name": "mm-exams",
   "language": "python",
   "name": "python3"
  },
  "language_info": {
   "codemirror_mode": {
    "name": "ipython",
    "version": 3
   },
   "file_extension": ".py",
   "mimetype": "text/x-python",
   "name": "python",
   "nbconvert_exporter": "python",
   "pygments_lexer": "ipython3",
   "version": "3.10.12"
  }
 },
 "nbformat": 4,
 "nbformat_minor": 2
}
