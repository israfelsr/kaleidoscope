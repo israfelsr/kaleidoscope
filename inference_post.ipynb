{
 "cells": [
  {
   "cell_type": "markdown",
   "metadata": {},
   "source": [
    "# Merge Results"
   ]
  },
  {
   "cell_type": "code",
   "execution_count": 1,
   "metadata": {},
   "outputs": [],
   "source": [
    "import json"
   ]
  },
  {
   "cell_type": "code",
   "execution_count": 2,
   "metadata": {},
   "outputs": [],
   "source": [
    "def merge_inference(path):\n",
    "    data = []\n",
    "    for i in range(0,4):\n",
    "        json_path = path + f\"results_{i}.json\"\n",
    "        with open(json_path, \"r\") as f:\n",
    "            data.extend(json.load(f))\n",
    "            print(json_path)\n",
    "    print(f\"Merged Len: {len(data)}\")\n",
    "    output_path = path + \"qwen32.json\"\n",
    "    with open(output_path, \"w\") as f:\n",
    "        json.dump(data, f, indent=2)\n",
    "    print(f\"Results saved in: {output_path}\")"
   ]
  },
  {
   "cell_type": "code",
   "execution_count": 3,
   "metadata": {},
   "outputs": [
    {
     "name": "stdout",
     "output_type": "stream",
     "text": [
      "./results/qwen2.5-32b/results_0.json\n",
      "./results/qwen2.5-32b/results_1.json\n",
      "./results/qwen2.5-32b/results_2.json\n",
      "./results/qwen2.5-32b/results_3.json\n",
      "Merged Len: 20911\n",
      "Results saved in: ./results/qwen2.5-32b/qwen32.json\n"
     ]
    }
   ],
   "source": [
    "merge_inference(\"./results/qwen2.5-32b/\")"
   ]
  },
  {
   "cell_type": "code",
   "execution_count": null,
   "metadata": {},
   "outputs": [],
   "source": [
    "def create_unique_key(sample):\n",
    "    return (\n",
    "        sample['language'],\n",
    "        sample['country'],\n",
    "        sample['file_name'],\n",
    "        sample['source'],\n",
    "        sample['original_question_num'],\n",
    "        sample['question'],\n",
    "        sample['image_png']\n",
    "    )\n",
    "\n",
    "# Create sets of unique keys for both datasets\n",
    "data_keys = set(create_unique_key(sample) for sample in data)\n",
    "len(data_keys)"
   ]
  },
  {
   "cell_type": "code",
   "execution_count": 3,
   "metadata": {},
   "outputs": [],
   "source": [
    "import json\n",
    "def read_json(file_path):\n",
    "    with open(file_path, \"r\") as f:\n",
    "        data = json.load(f)\n",
    "    return data\n",
    "\n",
    "def write_json(file_path, data):\n",
    "    with open(file_path, \"w\") as f:\n",
    "        json.dump(data, f, indent=2)\n",
    "    print(f\"File saved in :{file_path}\")"
   ]
  },
  {
   "cell_type": "code",
   "execution_count": 4,
   "metadata": {},
   "outputs": [],
   "source": [
    "file = \"./results/aya-vision-32b/aya32-1024t-512i-en.json\"\n",
    "data = read_json(file)"
   ]
  },
  {
   "cell_type": "code",
   "execution_count": 3,
   "metadata": {},
   "outputs": [],
   "source": [
    "import re\n",
    "import ast\n",
    "def check_if_parse(s):\n",
    "    s = s.split(\"assistant\\n\")[-1]\n",
    "    match = re.search(r'\\{\\s*\"choice\":\\s*.*?\\s*\\}', s)\n",
    "    if match:\n",
    "        try:\n",
    "            answer = ast.literal_eval(match.group())\n",
    "            return True\n",
    "        except Exception as e:\n",
    "            return False\n",
    "    return False"
   ]
  },
  {
   "cell_type": "code",
   "execution_count": null,
   "metadata": {},
   "outputs": [
    {
     "ename": "NameError",
     "evalue": "name 'data' is not defined",
     "output_type": "error",
     "traceback": [
      "\u001b[0;31m---------------------------------------------------------------------------\u001b[0m",
      "\u001b[0;31mNameError\u001b[0m                                 Traceback (most recent call last)",
      "Cell \u001b[0;32mIn[2], line 2\u001b[0m\n\u001b[1;32m      1\u001b[0m count \u001b[38;5;241m=\u001b[39m \u001b[38;5;241m0\u001b[39m \n\u001b[0;32m----> 2\u001b[0m \u001b[38;5;28;01mfor\u001b[39;00m t, sample \u001b[38;5;129;01min\u001b[39;00m \u001b[38;5;28menumerate\u001b[39m(\u001b[43mdata\u001b[49m):\n\u001b[1;32m      3\u001b[0m     \u001b[38;5;28;01mif\u001b[39;00m \u001b[38;5;129;01mnot\u001b[39;00m check_if_parse(sample[\u001b[38;5;124m'\u001b[39m\u001b[38;5;124mreasoning\u001b[39m\u001b[38;5;124m'\u001b[39m]):\n\u001b[1;32m      4\u001b[0m         \u001b[38;5;28mprint\u001b[39m(t, sample[\u001b[38;5;124m'\u001b[39m\u001b[38;5;124mreasoning\u001b[39m\u001b[38;5;124m'\u001b[39m])\n",
      "\u001b[0;31mNameError\u001b[0m: name 'data' is not defined"
     ]
    }
   ],
   "source": [
    "count = 0 \n",
    "for t, sample in enumerate(data):\n",
    "    if not check_if_parse(sample['reasoning']):\n",
    "        #print(t, sample['reasoning'])\n",
    "        count += 1"
   ]
  },
  {
   "cell_type": "code",
   "execution_count": null,
   "metadata": {},
   "outputs": [
    {
     "ename": "NameError",
     "evalue": "name 'data' is not defined",
     "output_type": "error",
     "traceback": [
      "\u001b[0;31m---------------------------------------------------------------------------\u001b[0m",
      "\u001b[0;31mNameError\u001b[0m                                 Traceback (most recent call last)",
      "Cell \u001b[0;32mIn[1], line 1\u001b[0m\n\u001b[0;32m----> 1\u001b[0m \u001b[38;5;28;01mfor\u001b[39;00m t, sample \u001b[38;5;129;01min\u001b[39;00m \u001b[38;5;28menumerate\u001b[39m(\u001b[43mdata\u001b[49m):\n\u001b[1;32m      2\u001b[0m     \u001b[38;5;28;01mif\u001b[39;00m \u001b[38;5;129;01mnot\u001b[39;00m check_if_parse(sample[\u001b[38;5;124m'\u001b[39m\u001b[38;5;124mreasoning\u001b[39m\u001b[38;5;124m'\u001b[39m]):\n\u001b[1;32m      3\u001b[0m         \u001b[38;5;28;01mif\u001b[39;00m t \u001b[38;5;241m<\u001b[39m \u001b[38;5;241m1709\u001b[39m:\n",
      "\u001b[0;31mNameError\u001b[0m: name 'data' is not defined"
     ]
    }
   ],
   "source": [
    "for t, sample in enumerate(data):\n",
    "    if not check_if_parse(sample['reasoning']):\n",
    "        if t < 1709:\n",
    "            continue\n",
    "        print(\"-\"*20)\n",
    "        s = sample['reasoning'].split('assistant\\n')[-1]\n",
    "        print(f\"Index {t}: {s}\")\n",
    "        user_input = input(\"Enter a letter (A, B, C, D) or 'None' to continue: \").strip().upper()\n",
    "        if user_input == 'NONE':\n",
    "            continue\n",
    "        elif user_input in ['A', 'B', 'C', 'D']:\n",
    "            data[t]['reasoning'] = f'{{\"choice\": \"{user_input}\"}}'\n",
    "        else:\n",
    "            print(\"Invalid input. Continuing to the next item.\")"
   ]
  },
  {
   "cell_type": "code",
   "execution_count": null,
   "metadata": {},
   "outputs": [],
   "source": [
    "def check_if_parse(s):\n",
    "    s = s.split(\"assistant\\n\")[-1]\n",
    "    match = re.search(r'\\{\\s*\"choice\":\\s*.*?\\s*\\}', s)\n",
    "    \n",
    "    if not match:\n",
    "        # Try to capture incorrect patterns like {\"choice\": \"B\")\n",
    "        match = re.search(r'(\\{\\s*\"choice\":\\s*\".*?\"\\))', s)\n",
    "        if match:\n",
    "            fixed_json = match.group().rstrip(')').strip() + \"}\"\n",
    "            try:\n",
    "                answer = ast.literal_eval(fixed_json)\n",
    "                return True\n",
    "            except Exception:\n",
    "                return False\n",
    "        return False\n",
    "    \n",
    "    try:\n",
    "        answer = ast.literal_eval(match.group())\n",
    "        return True\n",
    "    except Exception:\n",
    "        return False"
   ]
  },
  {
   "cell_type": "code",
   "execution_count": null,
   "metadata": {},
   "outputs": [],
   "source": [
    "for sample in data:\n",
    "    s = sample['reasoning']\n",
    "    match = re.search(r'\\{\\s*\"choice\":\\s*.*?\\s*\\}', s)\n",
    "    if not match:\n",
    "        # Try to capture incorrect patterns like {\"choice\": \"B\")\n",
    "        match = re.search(r'(\\{\\s*\"choice\":\\s*\".*?\"\\))', s)\n",
    "        if match:\n",
    "            fixed_json = match.group().rstrip(')').strip() + \"}\"\n",
    "            try:\n",
    "                answer = ast.literal_eval(fixed_json)\n",
    "                sample['reasoning'] = fixed_json\n",
    "            except Exception:\n",
    "                continue"
   ]
  }
 ],
 "metadata": {
  "kernelspec": {
   "display_name": "mm-exams",
   "language": "python",
   "name": "python3"
  },
  "language_info": {
   "codemirror_mode": {
    "name": "ipython",
    "version": 3
   },
   "file_extension": ".py",
   "mimetype": "text/x-python",
   "name": "python",
   "nbconvert_exporter": "python",
   "pygments_lexer": "ipython3",
   "version": "3.10.12"
  }
 },
 "nbformat": 4,
 "nbformat_minor": 2
}
